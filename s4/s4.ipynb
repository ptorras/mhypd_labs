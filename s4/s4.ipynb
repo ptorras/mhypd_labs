{
  "nbformat": 4,
  "nbformat_minor": 0,
  "metadata": {
    "colab": {
      "provenance": []
    },
    "kernelspec": {
      "name": "python3",
      "display_name": "Python 3"
    }
  },
  "cells": [
    {
      "cell_type": "markdown",
      "metadata": {
        "id": "2sPdcxGFsG-X"
      },
      "source": [
        "# Sesión 4: Digitalización 2D y Reconocimiento de documentos\n",
        "## Máster oficial en Humanidades y Patrimonio Digitales\n",
        "---\n",
        "Curso 2022-2023\n"
      ]
    },
    {
      "cell_type": "markdown",
      "source": [
        "Para esta entrega deberéis redactar un informe de **máximo 4 páginas**, donde tendreis que adjuntar las respuestas a las preguntas cerradas 1 a 3. Después tenéis que explicar los pasos que realizáis en cada apartado de la sección práctica y adjunteis las imagenes de salida de cada paso intermedio asi como su salida del OCR. Debéis justificar las decisiones que toméis.\n",
        "\n",
        "**No es el objeto de esta practica que obtengáis un resultado perfecto del OCR, pero sí lo es que lidiéis con sus problemas más típicos**. Así pues, si hay algún paso en particular que no conduzca a mejoría o alguna idea de un paso que querríais añadir pero que no sepáis como, explicadlo en forma de texto.\n",
        "\n",
        "Dispondréis de dos semanas desde el día de la sesión para la entrega."
      ],
      "metadata": {
        "id": "j_IIrpFuKG1I"
      }
    },
    {
      "cell_type": "markdown",
      "metadata": {
        "id": "x5W2hyi-soPf"
      },
      "source": [
        "## Instalar las Dependencias\n",
        "\n",
        "Para trabajar con Tesseract necesitamos el binario instalado en nuestro sistema\n",
        "(empleando el gestor de paquetes apt) y un paquete de Python que nos permitirá\n",
        "usarlo dentro del entorno Jupyter:\n",
        "\n",
        "* **[tesseract-ocr](https://tesseract-ocr.github.io)**: Instala Tesseract al\n",
        "sistema linux subyacente.\n",
        "* **[pytesseract](https://pypi.org/project/pytesseract/)**: Da el acceso al binario de Tesseract desde Python"
      ]
    },
    {
      "cell_type": "code",
      "source": [
        "!sudo apt install tesseract-ocr\n",
        "!pip install pytesseract"
      ],
      "metadata": {
        "id": "zaQx6YhnY4vC"
      },
      "execution_count": null,
      "outputs": []
    },
    {
      "cell_type": "markdown",
      "source": [
        "En este punto deberiais reiniciar el entorno para que se apliquen los cambios a la instalación de PIL (una biblioteca necesaria para tratar con imágenes desde Pytesseract). <font color=\"red\"> Tenéis el botón al final de la salida de la celda anterior </font>"
      ],
      "metadata": {
        "id": "Lw4R67FwY7lk"
      }
    },
    {
      "cell_type": "code",
      "metadata": {
        "id": "PF_cM_R1QNV4"
      },
      "source": [
        "!sudo apt install tesseract-ocr-ell\n",
        "!sudo apt install tesseract-ocr-tha\n",
        "!sudo apt install tesseract-ocr-spa\n",
        "\n",
        "!tesseract --list-langs"
      ],
      "execution_count": null,
      "outputs": []
    },
    {
      "cell_type": "markdown",
      "metadata": {
        "id": "7r2R-xfSHudU"
      },
      "source": [
        "Se pueden mirar las opciones de entrada posibles al sistema Tesseract empleando el comando ```--help-extra```. De este modo comprobamos también que la instalación fue exitosa.\n",
        "\n"
      ]
    },
    {
      "cell_type": "code",
      "metadata": {
        "id": "NdpGEL86woRQ"
      },
      "source": [
        "!tesseract --help-extra"
      ],
      "execution_count": null,
      "outputs": []
    },
    {
      "cell_type": "markdown",
      "metadata": {
        "id": "51HrFJTt1viZ"
      },
      "source": [
        "Ahora se puede importar la libreria que actúa como puente para Tesseract en un entorno Python.\n",
        "\n",
        "*   `import pytesseract`\n",
        "\n",
        "Esto os permitirá hacer llamadas a Tesseract y emplear sus salidas mediante objetos de Python. [Aquí](https://github.com/madmaze/pytesseract) podéis encontrar la documentación pertinente.\n",
        "\n"
      ]
    },
    {
      "cell_type": "code",
      "metadata": {
        "id": "BtF5aHATymlO"
      },
      "source": [
        "import pytesseract\n",
        "from pytesseract import Output\n",
        "\n",
        "print(pytesseract.get_tesseract_version())\n",
        "print(pytesseract.get_languages())"
      ],
      "execution_count": null,
      "outputs": []
    },
    {
      "cell_type": "markdown",
      "metadata": {
        "id": "HOYnhv1nzfq8"
      },
      "source": [
        "Además de Tesseract, vamos a usar otras bibliotecas para trabajar con las imagenes de entrada y salida al modelo de OCR.\n",
        "\n",
        "*   [OpenCV](https://opencv.org/): Proporciona herramientas para manipular imágenes de forma algoritmica, además de la implementación de ciertas técnicas de Visión por Computador.\n",
        "*   [Matplotlib](https://matplotlib.org/): Una biblioteca para producir visualizaciones en Python"
      ]
    },
    {
      "cell_type": "code",
      "metadata": {
        "id": "x86g1lmnQZcQ"
      },
      "source": [
        "import cv2\n",
        "import matplotlib.patches as patches\n",
        "import matplotlib.pyplot as plt\n",
        "import numpy as np"
      ],
      "execution_count": null,
      "outputs": []
    },
    {
      "cell_type": "code",
      "source": [
        "def transcribe_and_decorate(img):\n",
        "  d = pytesseract.image_to_data(img, output_type=Output.DICT)\n",
        "\n",
        "  plt.figure(dpi=300)\n",
        "  plt.imshow(img, cmap='gray')\n",
        "  plt.axis('off')\n",
        "\n",
        "  ax = plt.gca()\n",
        "\n",
        "  n_boxes = len(d['text'])\n",
        "  for i in range(n_boxes):\n",
        "      # Confidence score of the detection\n",
        "      if int(d['conf'][i]) > 60:\n",
        "          # Bounding box of the word\n",
        "          (x, y, w, h) = (d['left'][i], d['top'][i], d['width'][i], d['height'][i])\n",
        "\n",
        "          # Textual transcription\n",
        "          transcription = d['text'][i]\n",
        "\n",
        "          # Draw rectangle\n",
        "          rect = patches.Rectangle((x, y), w, h, linewidth=1,edgecolor='r', facecolor='none')\n",
        "          # Add the patch to the Axes\n",
        "          ax.add_patch(rect)\n",
        "          # Write the transcription\n",
        "          plt.annotate(transcription, (x, y), fontsize=2)\n",
        "\n",
        "  plt.show()\n",
        "  plt.close()"
      ],
      "metadata": {
        "id": "UKQZoc-sDKM7"
      },
      "execution_count": null,
      "outputs": []
    },
    {
      "cell_type": "markdown",
      "metadata": {
        "id": "VuxWXUhxVEn0"
      },
      "source": [
        "## Cargar y mostrar una imagen\n",
        "\n",
        "Para cargar una imagen en forma de variable de Python, se tiene que llamar la función ```cv2.imread(...)``` de OpenCV. Como parametro hay que pasar el nombre del fichero que se quiere cargar.\n",
        "\n",
        "Adicionalmente, si habéis subido el fichero con las imágenes de entrada sin descomprimir, tenéis que ejecutar este comando Linux para poder acceder a ellas. "
      ]
    },
    {
      "cell_type": "code",
      "source": [
        "!unzip M4-sessio4-test_images.zip"
      ],
      "metadata": {
        "id": "Qwyk4--a0zVu"
      },
      "execution_count": null,
      "outputs": []
    },
    {
      "cell_type": "code",
      "metadata": {
        "id": "DOvIUOeZJTve"
      },
      "source": [
        "img = cv2.imread('patent.png')"
      ],
      "execution_count": null,
      "outputs": []
    },
    {
      "cell_type": "markdown",
      "metadata": {
        "id": "ZMc5EmFRbtu6"
      },
      "source": [
        "Ahora la variable `img` debería contener la información de color del fichero de entrada. Podemos visualizar la imagen empleando la función `imshow` de la biblioteca `Matplotlib` (importada con el nombre `plt`).\n",
        "\n",
        "**Importante: Si os sale un error del estilo:**\n",
        "\n",
        "```\n",
        "TypeError: Image data of dtype object cannot be converted to float\n",
        "```\n",
        "**La llamada a `cv2.imread(...)` no os ha cargado nada. Aseguraos que tenéis las imágenes descomprimidas en la carpeta raíz de la sesión de Colab**\n",
        "\n",
        "![Screenshot from 2022-11-20 12-43-00.png](data:image/png;base64,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)"
      ]
    },
    {
      "cell_type": "code",
      "metadata": {
        "id": "23dF8Xxtcaw5"
      },
      "source": [
        "plt.imshow(img)\n",
        "plt.axis('off')\n",
        "plt.show()\n",
        "plt.close()"
      ],
      "execution_count": null,
      "outputs": []
    },
    {
      "cell_type": "markdown",
      "metadata": {
        "id": "g3bCOaxFe6jd"
      },
      "source": [
        "## Llamada a Tesseract\n",
        "\n",
        "Una vez se haya cargado la imagen correctamente, puede llamarse a `pytesseract` para transcribirla. La función más directa que nos otorga la biblioteca Pytesseract es `image_to_string`, que realizará la conversión según los parámetros OEM y PSM que le proveamos.\n",
        "\n",
        "Los valores posibles del parámetro OEM (OCR Engine Mode) son los siguientes:\n",
        "\n",
        "0. Motor de OCR de legado.\n",
        "1. Motor LSTM (Red Neuronal).\n",
        "2. Combinación Legado + LSTM.\n",
        "3. Opción por defecto según lo que esté disponible.\n",
        "\n",
        "Los valores posibles del parámetro PSM (Page Segmentation Mode) son los siguientes:\n",
        "\n",
        "0. Solo detección de texto y orientación.\n",
        "1. Segmentación de página automática usando OSD (Orientation and Script Detection).\n",
        "2. Segmentación de página automática sin usar OSD ni proveer OCR.\n",
        "3. Segmentación de página automática sin usar OSD.\n",
        "4. Asumir una unica columna de texto de tamaño variable.\n",
        "5. Asumir una única columna de texto de anchura uniforme.\n",
        "6. Asumir un bloque de texto uniforme.\n",
        "7. Tratar la imagen como una sola línea de texto.\n",
        "8. Tratar la imagen como una sola palabra.\n",
        "9. Tratar la imagen como una sola palabra en un círculo.\n",
        "10. Tratar la imagen como un solo carácter.\n",
        "11. Texto disperso en la imagen. Encontrar tanto como sea posible sin un orden particular.\n",
        "12. Texto disperso con OSD.\n",
        "13. Línea cruda. Tratar la imagen de entrada como una sola línea de texto ignorando hacks específicos de Tesseract.\n",
        "\n",
        "\n"
      ]
    },
    {
      "cell_type": "markdown",
      "source": [
        "---\n",
        "\n",
        "**<font color='red'>\n",
        "Pregunta 1: Para la imagen ```patent.png```, qué opción de PSM creéis más apropiada? Probad qué ocurre cuando empleáis las opciones 4, 5, 6, 7, 8 o 11.\n",
        "</font>**\n",
        "\n",
        "---"
      ],
      "metadata": {
        "id": "fcrRlyvJAhpL"
      }
    },
    {
      "cell_type": "markdown",
      "source": [
        "**<font color='green'>\n",
        "Respuesta aquí\n",
        "</font>**"
      ],
      "metadata": {
        "id": "8oXd4NiNB2fL"
      }
    },
    {
      "cell_type": "code",
      "metadata": {
        "id": "IdzdRvXJq2ll"
      },
      "source": [
        "custom_config = r'--tessdata-dir \"/usr/share/tesseract-ocr/4.00/tessdata\" --psm 4' # ESCRIBID AQUÍ LA OPCIÓN\n",
        "transcription = pytesseract.image_to_string(img, config=custom_config)\n",
        "\n",
        "print(transcription)"
      ],
      "execution_count": null,
      "outputs": []
    },
    {
      "cell_type": "markdown",
      "metadata": {
        "id": "CpG7BKAb2fwR"
      },
      "source": [
        "El resultado seguramente sea muy bueno. No obstante, hay un error de transcripción bastante relevante al final del texto (una \"a\" extra). Esto se debe a que Tesseract espera una entrada perfectamente preprocesada: Requiere que el texto de entrada sea **lo más limpio posible** además de tener el **suficiente margen a su alrededor**."
      ]
    },
    {
      "cell_type": "markdown",
      "metadata": {
        "id": "XeD7yY2K2tuF"
      },
      "source": [
        "## Preprocesado de Imagenes\n",
        "\n",
        "Vamos a añadir un ligero borde a la imagen de prueba antes de pasarla a Tesseract y vamos a ver si el resultado mejora."
      ]
    },
    {
      "cell_type": "code",
      "metadata": {
        "id": "veAuuKhzUVbN"
      },
      "source": [
        "img = cv2.copyMakeBorder(img, 10, 10, 10, 10, cv2.BORDER_CONSTANT, None, [255,255,255])\n",
        "plt.imshow(img)\n",
        "plt.axis('off')\n",
        "plt.show()\n",
        "plt.close()\n",
        "\n",
        "custom_config = r'--psm 6' # Recordad añadir vuestra opción predilecta aquí\n",
        "transcription = pytesseract.image_to_string(img, config=custom_config)\n",
        "\n",
        "print(transcription)"
      ],
      "execution_count": null,
      "outputs": []
    },
    {
      "cell_type": "markdown",
      "source": [
        "Bingo! Pero esta imagen de entrada es bastante fácil de tratar, puesto que no tiene ninguna de las dificultades que usualmente encontraríamos en un documento."
      ],
      "metadata": {
        "id": "Uwnb4ylemr4S"
      }
    },
    {
      "cell_type": "markdown",
      "metadata": {
        "id": "-Tj0aGrhOClE"
      },
      "source": [
        "## Escritura Manual?"
      ]
    },
    {
      "cell_type": "code",
      "metadata": {
        "id": "Sb0PmSAMOFu9"
      },
      "source": [
        "img = cv2.imread('htr.png')\n",
        "img = cv2.copyMakeBorder(img, 10, 10, 10, 10, cv2.BORDER_CONSTANT, None, [255,255,255])\n",
        "plt.imshow(img)\n",
        "plt.axis('off')\n",
        "plt.show()\n",
        "plt.close()"
      ],
      "execution_count": null,
      "outputs": []
    },
    {
      "cell_type": "code",
      "metadata": {
        "id": "GYE5a45AOMrO"
      },
      "source": [
        "custom_config = r'--psm 4' \n",
        "transcription = pytesseract.image_to_string(img, config=custom_config)\n",
        "\n",
        "print(transcription)"
      ],
      "execution_count": null,
      "outputs": []
    },
    {
      "cell_type": "markdown",
      "metadata": {
        "id": "2uiPwH4hONzD"
      },
      "source": [
        "Los modelos preentrenados de Tesseract no funcionan con texto manuscrito. No obstante, y asumiendo que dispongáis de los datos, en la documentación se detalla como entrenar un modelo personalizado para tal uso."
      ]
    },
    {
      "cell_type": "markdown",
      "metadata": {
        "id": "pGuFi2HE8mzf"
      },
      "source": [
        "## Otras características de Tesseract"
      ]
    },
    {
      "cell_type": "markdown",
      "metadata": {
        "id": "C8RAsa4x_Rxm"
      },
      "source": [
        "### Distintos sistemas de escritura y lenguajes"
      ]
    },
    {
      "cell_type": "markdown",
      "source": [
        "Vamos a ver la lista de lenguajes que nuestra instalación de Tesseract soporta"
      ],
      "metadata": {
        "id": "Lra2KGbV1Wf5"
      }
    },
    {
      "cell_type": "code",
      "metadata": {
        "id": "kFSMhlOjAbPr"
      },
      "source": [
        "!tesseract --list-langs"
      ],
      "execution_count": null,
      "outputs": []
    },
    {
      "cell_type": "markdown",
      "metadata": {
        "id": "PSyRDk4-AkkK"
      },
      "source": [
        "[Aquí](https://packages.ubuntu.com/search?keywords=tesseract-ocr&searchon=names&suite=groovy&section=all) tenéis una lista de lenguajes disponibles para Tesseract."
      ]
    },
    {
      "cell_type": "code",
      "metadata": {
        "id": "TmPI1EE58mH6"
      },
      "source": [
        "img = cv2.imread('greek_odyssey.jpg')\n",
        "img = cv2.copyMakeBorder(img, 10, 10, 10, 10, cv2.BORDER_CONSTANT, None, [255,255,255])\n",
        "plt.imshow(img)\n",
        "plt.axis('off')\n",
        "plt.show()\n",
        "plt.close()"
      ],
      "execution_count": null,
      "outputs": []
    },
    {
      "cell_type": "code",
      "metadata": {
        "id": "X1-N7aFu8kbS"
      },
      "source": [
        "custom_config = r'--psm 6'\n",
        "transcription = pytesseract.image_to_string(img, config=custom_config)\n",
        "\n",
        "print(transcription)"
      ],
      "execution_count": null,
      "outputs": []
    },
    {
      "cell_type": "markdown",
      "metadata": {
        "id": "-C3m3S-f_Wl0"
      },
      "source": [
        "Hay que decirle a Tesseract qué idioma tiene el texto de la imagen de entrada. A tal efecto, añadimos la opción -l y lo sucedimos con el idioma que vamos a emplear (ell hace referencia al griego)."
      ]
    },
    {
      "cell_type": "code",
      "metadata": {
        "id": "ObjKl0Yc_Hl4"
      },
      "source": [
        "custom_config = r'--psm 6 -l ell'\n",
        "transcription = pytesseract.image_to_string(img, config=custom_config)\n",
        "\n",
        "print(transcription)"
      ],
      "execution_count": null,
      "outputs": []
    },
    {
      "cell_type": "markdown",
      "metadata": {
        "id": "XFmMvvEq_fpO"
      },
      "source": [
        "### Podemos combinar varios sistemas de escritura?\n",
        "\n",
        "Por supuesto! Solo hay que listar los idiomas de entrada separados por signos de suma + en el comando de entrada"
      ]
    },
    {
      "cell_type": "code",
      "metadata": {
        "id": "jwiIuPEE_jH6"
      },
      "source": [
        "img = cv2.imread('greek-thai.png')\n",
        "img = cv2.copyMakeBorder(img, 10, 10, 10, 10, cv2.BORDER_CONSTANT, None, [255,255,255])\n",
        "plt.imshow(img)\n",
        "plt.axis('off')\n",
        "plt.show()\n",
        "plt.close()"
      ],
      "execution_count": null,
      "outputs": []
    },
    {
      "cell_type": "code",
      "metadata": {
        "id": "sBsp5fzl_nFy"
      },
      "source": [
        "custom_config = r'--psm 6 -l tha+ell+eng'\n",
        "transcription = pytesseract.image_to_string(img, config=custom_config)\n",
        "\n",
        "print(transcription)"
      ],
      "execution_count": null,
      "outputs": []
    },
    {
      "cell_type": "markdown",
      "source": [
        "**<font color='red'>\n",
        "Pregunta 2: El tiempo de ejecucion de esta celda ha sido comparativamente mas largo que los anteriores (observad el checkbox a la izquierda de la celda del código con el tiempo de ejecución). Investigad a qué se debe este aumento al introducir los nuevos lenguajes. \n",
        "</font>**"
      ],
      "metadata": {
        "id": "8BUbmXz26qY8"
      }
    },
    {
      "cell_type": "markdown",
      "source": [
        "<font color='green'> RESPUESTA AQUÍ </font>"
      ],
      "metadata": {
        "id": "yYfVOgXr7-0f"
      }
    },
    {
      "cell_type": "markdown",
      "metadata": {
        "id": "yaNbGrpjEswQ"
      },
      "source": [
        "### Layout analysis y OCR\n",
        "\n",
        "Podéis hacer que Tesseract ejecute la detección de los elementos de la imagen de entrada por vosotros. No obstante, la salida del modelo será más complicada que un mero texto, puesto que ahora dispondréis de las bounding boxes de cada detección de texto además de la transcripción."
      ]
    },
    {
      "cell_type": "code",
      "metadata": {
        "id": "1rTNmbRyEwLd"
      },
      "source": [
        "img = cv2.imread('invoice.jpg')\n",
        "plt.imshow(img)\n",
        "plt.axis('off')\n",
        "plt.show()\n",
        "plt.close()"
      ],
      "execution_count": null,
      "outputs": []
    },
    {
      "cell_type": "code",
      "metadata": {
        "id": "Px30VtLLE9Ky"
      },
      "source": [
        "d = pytesseract.image_to_data(img, output_type=Output.DICT)\n",
        "print(d.keys())"
      ],
      "execution_count": null,
      "outputs": []
    },
    {
      "cell_type": "markdown",
      "metadata": {
        "id": "7Rnwh9X4FEAE"
      },
      "source": [
        "Como podéis ver, como output tenemos un diccionario python con varias claves. \n",
        "\n",
        "**<font color='red'>\n",
        "Pregunta 3: Averiguad el significado de cada clave. Podéis emplear la salida de la celda anterior (acceded a los campos correspondientes con `d[CAMPO]`\n",
        "</font>**\n",
        "\n",
        "<font color='green'> INSERTAD LA RESPUESTA EN LOS PUNTOS DE ABAJO </font>\n",
        "- `level`: \n",
        "- `page_num`:\n",
        "- `block_num`:\n",
        "- `par_num`:\n",
        "- `line_num`:\n",
        "- `word_num`:\n",
        "- `left`:\n",
        "- `top`:\n",
        "- `width`:\n",
        "- `height`:\n",
        "- `conf`:\n",
        "- `text`:\n"
      ]
    },
    {
      "cell_type": "code",
      "metadata": {
        "id": "y-YQv96XFI6S"
      },
      "source": [
        "transcribe_and_decorate(img)"
      ],
      "execution_count": null,
      "outputs": []
    },
    {
      "cell_type": "markdown",
      "source": [
        "# Os toca a vosotros\n",
        "\n",
        "**<font color=\"red\">\n",
        "Tenéis que tratar de hacer OCR en un documento con varias fuentes de ruido de entrada. Tenéis que implementar varios pasos para limpiar la imagen. Cada vez que implementéis uno, deberéis analizar como mejora la salida del modelo de OCR\n",
        "</font>**\n",
        "\n",
        "Os recomiendo encarecidamente que consultéis materiales como [los tips & tricks de Tesseract para mejorar la salida](https://tesseract-ocr.github.io/tessdoc/ImproveQuality.html) para disponer de ejemplos acerca de cómo codificar cada paso. No obstante, os proveo de la estructura ya realizada, de modo que solo tenéis que modificar las celdas aquí listadas.\n",
        "\n",
        "---"
      ],
      "metadata": {
        "id": "BJ5Uz_4H8Egh"
      }
    },
    {
      "cell_type": "markdown",
      "source": [
        "No olvideis ejecutar estas funciones de ayuda!"
      ],
      "metadata": {
        "id": "2r2BFLJADKfk"
      }
    },
    {
      "cell_type": "markdown",
      "source": [
        "## Cargar la Imagen\n",
        "\n",
        "Primero vamos a cargar la imagen que vamos a emplear en esta parte de la práctica"
      ],
      "metadata": {
        "id": "pT9ODiqE9W7H"
      }
    },
    {
      "cell_type": "code",
      "source": [
        "img = cv2.imread('times.png')\n",
        "img = cv2.cvtColor(img, cv2.COLOR_BGR2GRAY)\n",
        "\n",
        "plt.figure(dpi=300)\n",
        "plt.axis('off')\n",
        "plt.imshow(img, cmap='gray')\n",
        "plt.show()"
      ],
      "metadata": {
        "id": "hHf1GzoC9TuF"
      },
      "execution_count": null,
      "outputs": []
    },
    {
      "cell_type": "code",
      "source": [
        "transcribe_and_decorate(img)"
      ],
      "metadata": {
        "id": "Ol4LUUalDaGf"
      },
      "execution_count": null,
      "outputs": []
    },
    {
      "cell_type": "markdown",
      "source": [
        "## Binarización\n",
        "\n",
        "Basaos en la información de la [documentación](https://docs.opencv.org/4.x/d7/d4d/tutorial_py_thresholding.html) de OpenCV. Os recomiendo que miréis los métodos de Thresholding adaptable para mejores resultados."
      ],
      "metadata": {
        "id": "pp84gpTb89vI"
      }
    },
    {
      "cell_type": "code",
      "source": [
        "# img_threshold = cv2.threshold(img, ...) # COMPLETAD ESTE CODIGO\n",
        "img_threshold = cv2.threshold(img, 127, 255, cv2.THRESH_BINARY)[1]\n",
        "\n",
        "plt.figure(dpi=300)\n",
        "plt.axis('off')\n",
        "plt.imshow(img_threshold, cmap='gray')\n",
        "plt.show()"
      ],
      "metadata": {
        "id": "gA7r_GBb883J"
      },
      "execution_count": null,
      "outputs": []
    },
    {
      "cell_type": "code",
      "source": [
        "transcribe_and_decorate(img_threshold)"
      ],
      "metadata": {
        "id": "JBO2UvQGC-xP"
      },
      "execution_count": null,
      "outputs": []
    },
    {
      "cell_type": "markdown",
      "source": [
        "Comparad el resultado con el del modelo [DocEnTr](https://replicate.com/cjwbw/docentr).  **Tarda un rato en procesar, asi que tened paciencia**"
      ],
      "metadata": {
        "id": "b31h_4wvACVk"
      }
    },
    {
      "cell_type": "markdown",
      "source": [
        "<font color=\"green\"> Añadid en la celda de código a continuación la imagen resultante del DocEnTr y razonad la respuesta </font>"
      ],
      "metadata": {
        "id": "T2K3Ygk9CK-P"
      }
    },
    {
      "cell_type": "code",
      "source": [
        "img_docentr = cv2.imread('times_docentr.png')  # Si cargáis el fichero con este nombre, ya lo tenéis\n",
        "img_docentr = cv2.cvtColor(img_docentr, cv2.COLOR_BGR2GRAY)\n",
        "\n",
        "transcribe_and_decorate(img_docentr)"
      ],
      "metadata": {
        "id": "n8LRQip1FKLw"
      },
      "execution_count": null,
      "outputs": []
    },
    {
      "cell_type": "markdown",
      "source": [
        "## De-Noising\n",
        "\n",
        "Basaos en la información de la [documentación](https://docs.opencv.org/3.4/d4/d86/group__imgproc__filter.html) de OpenCV. Os recomiendo que empleéis filtrado no lineal usando morfología matemática. En especial, tratad de usar un filtro de opening o de mediana para quitar los puntos del ruido salt and pepper."
      ],
      "metadata": {
        "id": "i2NetvxZCVU-"
      }
    },
    {
      "cell_type": "code",
      "source": [
        "strel = np.ones((3, 3))             # Kernel de morfologia (cuadrado 3x3, podeis cambiarlo)\n",
        "morph_operation = cv2.MORPH_ERODE   # Tipo de operación morfologica a usar\n",
        "\n",
        "img_denoised =  cv2.morphologyEx(img_threshold, morph_operation, strel)\n",
        "\n",
        "# Podeis insertar más pasos si lo estimais conveniente\n",
        "# img_denoised =  cv2.morphologyEx(img_threshold, morph_operation, strel)\n",
        "\n",
        "# Existen otros filtros que podéis probar\n",
        "\n",
        "plt.figure(dpi=300)\n",
        "plt.axis('off')\n",
        "plt.imshow(img_denoised, cmap='gray')\n",
        "plt.show()"
      ],
      "metadata": {
        "id": "wE5fFxM7CUsg"
      },
      "execution_count": null,
      "outputs": []
    },
    {
      "cell_type": "code",
      "source": [
        "transcribe_and_decorate(img_denoised)"
      ],
      "metadata": {
        "id": "ulbjrQOMIZ6m"
      },
      "execution_count": null,
      "outputs": []
    },
    {
      "cell_type": "markdown",
      "source": [
        "## Márgenes\n",
        "\n",
        "Añadid un poco de margen alrededor de la imagen"
      ],
      "metadata": {
        "id": "LV7oFIs7C3nW"
      }
    },
    {
      "cell_type": "code",
      "source": [
        "img_border = cv2.copyMakeBorder(img_denoised, 64, 64, 64, 64, cv2.BORDER_CONSTANT, None, [255,255,255])\n",
        "\n",
        "plt.figure(dpi=300)\n",
        "plt.axis('off')\n",
        "plt.imshow(img_border, cmap='gray')\n",
        "plt.show()"
      ],
      "metadata": {
        "id": "VPHbWtjiC81k"
      },
      "execution_count": null,
      "outputs": []
    },
    {
      "cell_type": "code",
      "source": [
        "transcribe_and_decorate(img_denoised)"
      ],
      "metadata": {
        "id": "IeQtIYnbLmFK"
      },
      "execution_count": null,
      "outputs": []
    },
    {
      "cell_type": "markdown",
      "source": [
        "**Ahora podéis rellenar el informe de la práctica**"
      ],
      "metadata": {
        "id": "ThGMUjXKLmzL"
      }
    }
  ]
}
