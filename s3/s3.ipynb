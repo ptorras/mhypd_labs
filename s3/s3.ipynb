{
 "cells": [
  {
   "cell_type": "markdown",
   "id": "11bd60be",
   "metadata": {},
   "source": [
    "# Sesión 3: Inteligencia Artificial"
   ]
  },
  {
   "cell_type": "markdown",
   "id": "6a0c725e",
   "metadata": {},
   "source": [
    "Para esta sesión tenéis que responder a las preguntas de las celdas en rojo en la celda adyacente. La entrega se realizará exportando el Jupyter Notebook a pdf y entregándolo en el espacio del Campus Virtual antes de una semana desde el momento de la práctica (22/11/2022 - 23:59)"
   ]
  },
  {
   "cell_type": "markdown",
   "id": "ae7cd811",
   "metadata": {
    "pycharm": {
     "name": ""
    }
   },
   "source": [
    "## 3.1 Creación de un modelo de clasificación simple\n",
    "\n",
    "Durante la lección de hoy hemos visto redes neuronales para dos propósitos distintos: modelado de una magnitud continua (regresión) y de una magnitud discreta (Clasificación). En esta práctica vamos a ver como implementar uno de estos modelos de forma muy simple empleando la biblioteca **Keras**.\n",
    "\n",
    "![El logotipo de Keras](https://camo.githubusercontent.com/906e661107a3bc03104ca5d88336d1f4b0e80fdcac65efaf7904041d371c747f/68747470733a2f2f73332e616d617a6f6e6177732e636f6d2f6b657261732e696f2f696d672f6b657261732d6c6f676f2d323031382d6c617267652d313230302e706e67)\n",
    "\n",
    "Keras es una biblioteca que abstrae prácticamente todos los aspectos computacionales de construir una red neuronal, dejando para el desarrollador solamente definir la estructura del modelo.\n",
    "\n",
    "-------\n",
    "\n",
    "Así pues, **¿cómo se estructura una red neuronal?**\n",
    "\n",
    "Las redes neuronales se construyen insertando capas. Cada capa suele componerse de un conjunto de **parámetros** con los que efectuamos las transformaciones de los datos de entrada para obtener los datos de salida. Como operar con estos parámetros depende del tipo de capas que estemos empleando - las hay para una gran diversidad de tareas!"
   ]
  },
  {
   "cell_type": "markdown",
   "id": "d6dcb99c",
   "metadata": {},
   "source": [
    "![Un ejemplo de visualización de una red neuronal](https://miro.medium.com/max/1400/1*Cdim7OfioKQj_rLI9GbNng.png)"
   ]
  },
  {
   "cell_type": "markdown",
   "id": "1763e62b",
   "metadata": {},
   "source": [
    "<font color='red'>\n",
    "Pregunta 1: Buscad algunos de los tipos de capas con parámetros más frecuentes y explicad brevemente para qué se usan: Capa Feedforward/Linear/Fully Connected, Capa Convolucional, Capa Recurrente.\n",
    "</font>\n",
    "\n",
    "Recomendación: Podéis investigar la [documentación de Keras](https://keras.io/api/layers/) o leer algunos artículos: Redes [Convolucionales](https://towardsdatascience.com/a-comprehensive-guide-to-convolutional-neural-networks-the-eli5-way-3bd2b1164a53), [Recurrentes](https://stanford.edu/~shervine/teaching/cs-230/cheatsheet-recurrent-neural-networks), [Feedforward](https://towardsdatascience.com/feed-forward-neural-networks-how-to-successfully-build-them-in-python-74503409d99a). **Son solo algunos sitios recomendados, no hace falta leerlos en su totalidad ni ceñirse a ellos**"
   ]
  },
  {
   "cell_type": "markdown",
   "id": "05c11172",
   "metadata": {},
   "source": [
    "<font color='green'> RESPUESTA AQUÍ </font>"
   ]
  },
  {
   "cell_type": "markdown",
   "id": "a070f0e5",
   "metadata": {},
   "source": [
    "Después de cada capa con parámetros, se suele insertar una capa de **activación**, cuya tarea es simular las neuronas reales de los cerebros humanos: Despues de recibir los estímulos de entrada de las neuronas precedentes, cada neurona se activa produciendo un valor de salida dependiendo de si se supera un umbral o no. En los gráficos a continuación podéis ver algunas de las funciones de activación más típicas. El eje horizontal describe el valor de **entrada** a la capa de activación y el eje vertical denota el valor de **salida**."
   ]
  },
  {
   "cell_type": "markdown",
   "id": "fc11ab63",
   "metadata": {},
   "source": [
    "![Gráfico de la función ReLU](https://miro.medium.com/max/1400/1*Mk3tjKLpxNKQUnhKSeqRaA.png)\n"
   ]
  },
  {
   "cell_type": "markdown",
   "id": "3cec3fd0",
   "metadata": {},
   "source": [
    "<font color='red'>\n",
    "Pregunta 2: La función de activación más frecuente hoy en día es la función ReLU. ¿Qué debe ocurrir para que una neurona produzca un valor de salida positivo? ¿Puede producirse un valor de salida negativo?\n",
    "</font>"
   ]
  },
  {
   "cell_type": "markdown",
   "id": "9c75eb9f",
   "metadata": {},
   "source": [
    "<font color='green'> RESPUESTA AQUÍ </font>"
   ]
  },
  {
   "cell_type": "markdown",
   "id": "e078839e",
   "metadata": {},
   "source": [
    "La pregunta más natural que se os puede ocurrir es, ¿con qué criterio se estructuran las redes neuronales? ¿Cómo se decide qué capas poner, qué activaciones, etc?\n",
    "\n",
    "Lo cierto es que es un proceso totalmente *arbitrario*. La ciencia de las redes neuronales se basa en el empirismo puro, lo que es una forma bonita de decir que es una cuestión de **prueba y error**. A partir de este conocimiento empírico se puede saber qué tipo de red y con qué numero de parámetros es probable obtener buenos resultados en una tarea determinada: por ejemplo, hay conjuntos de datos muy simples con los que con unos pocos miles de parámetros dispuestos en no mas de siete u ocho capas basta para obtener resultados de cerca del 100% de precisión. Sin embargo, hay tareas (como por ejemplo el COCO dataset que hemos visto durante la clase) para los cuales ni siquiera redes de centenares de millones de parámetros bastan (aunque sí son lo bastante buenas para producir resultados respetables)."
   ]
  },
  {
   "cell_type": "markdown",
   "id": "db4f14f6",
   "metadata": {},
   "source": [
    "<font color='red'>\n",
    "Pregunta 3: A lo largo de los años se han creado formas de diseñar modelos de forma automatizada para mejorar los resultados y reducir el coste humano de implementar redes neuronales. Definid brevemente en qué consiste NAS (Neural Architecture Search). ¿Cuál es su principal inconveniente?\n",
    "</font>"
   ]
  },
  {
   "cell_type": "markdown",
   "id": "77858329",
   "metadata": {},
   "source": [
    "<font color='green'> RESPUESTA AQUÍ </font>"
   ]
  },
  {
   "cell_type": "markdown",
   "id": "138ad86b",
   "metadata": {},
   "source": [
    "## 3.2 Manos a la obra\n",
    "\n",
    "Vamos pues a implementar nuestra propia red neuronal de clasificación. Emplearemos uno de los conjuntos de datos predeterminados de Keras, el Dataset MNIST. Es un conjunto de imagenes con números manuscritos del 0 al 9, y el objetivo de clasificación es determinar a qué numero hacen referencia.\n",
    "\n",
    "Este código está basado en el propio [tutorial](https://keras.io/examples/vision/mnist_convnet/) de Keras disponible en su documentación. En general, hagáis lo que hagáis, es **muy** recomendable que leáis los recursos que tiene Keras acerca de Deep Learning, puesto que es una herramienta muy completa con muchísimos ejemplos."
   ]
  },
  {
   "cell_type": "code",
   "execution_count": 1,
   "id": "841166b8",
   "metadata": {},
   "outputs": [
    {
     "name": "stderr",
     "output_type": "stream",
     "text": [
      "2022-11-13 19:03:43.526135: I tensorflow/core/platform/cpu_feature_guard.cc:193] This TensorFlow binary is optimized with oneAPI Deep Neural Network Library (oneDNN) to use the following CPU instructions in performance-critical operations:  AVX2 FMA\n",
      "To enable them in other operations, rebuild TensorFlow with the appropriate compiler flags.\n",
      "2022-11-13 19:03:43.642578: E tensorflow/stream_executor/cuda/cuda_blas.cc:2981] Unable to register cuBLAS factory: Attempting to register factory for plugin cuBLAS when one has already been registered\n",
      "2022-11-13 19:03:44.309343: W tensorflow/stream_executor/platform/default/dso_loader.cc:64] Could not load dynamic library 'libnvinfer.so.7'; dlerror: libnvinfer.so.7: cannot open shared object file: No such file or directory\n",
      "2022-11-13 19:03:44.309457: W tensorflow/stream_executor/platform/default/dso_loader.cc:64] Could not load dynamic library 'libnvinfer_plugin.so.7'; dlerror: libnvinfer_plugin.so.7: cannot open shared object file: No such file or directory\n",
      "2022-11-13 19:03:44.309462: W tensorflow/compiler/tf2tensorrt/utils/py_utils.cc:38] TF-TRT Warning: Cannot dlopen some TensorRT libraries. If you would like to use Nvidia GPU with TensorRT, please make sure the missing libraries mentioned above are installed properly.\n"
     ]
    },
    {
     "name": "stdout",
     "output_type": "stream",
     "text": [
      "(60000, 28, 28) (10000, 28, 28)\n"
     ]
    },
    {
     "data": {
      "image/png": "[encoded data removed]",
      "text/plain": [
       "<Figure size 640x480 with 1 Axes>"
      ]
     },
     "metadata": {},
     "output_type": "display_data"
    },
    {
     "name": "stdout",
     "output_type": "stream",
     "text": [
      "La clase de salida de la muestra es un 5\n"
     ]
    }
   ],
   "source": [
    "from tensorflow import keras\n",
    "from tensorflow.keras import layers\n",
    "\n",
    "import matplotlib.pyplot as plt\n",
    "import numpy as np\n",
    "\n",
    "def showimg(img):\n",
    "    plt.figure()\n",
    "    plt.imshow(img)\n",
    "    plt.show()\n",
    "    plt.close()\n",
    "\n",
    "# Cargamos los datos del dataset MNIST en particiones de entrenamiento y test\n",
    "(x_train, y_train), (x_test, y_test) = keras.datasets.mnist.load_data()\n",
    "num_classes = 10\n",
    "n_elms, width, height = x_train.shape\n",
    "\n",
    "# Miramos la forma de los datos. Tenemos 60k imagenes de entrenamiento de un\n",
    "# tamaño de 28 píxeles por 28 con un solo canal. En test tenemos otras 10k imágenes.\n",
    "print(x_train.shape, x_test.shape)\n",
    "\n",
    "# Comprobamos que todo está en orden visualizando una imagen\n",
    "showimg(x_train[0, :][:,:, None])\n",
    "print(f\"La clase de salida de la muestra es un {y_train[0]}\")"
   ]
  },
  {
   "cell_type": "markdown",
   "id": "03b097ef",
   "metadata": {},
   "source": [
    "<font color='red'>\n",
    "Pregunta 4: Los más observadores habréis visto que hay *dos* conjuntos de datos distintos - train y test. Una de estas mitades de los datos se usa para entrenar el modelo y la otra para evaluar como funciona. No obstante, ¿por qué creéis que se usan particiones distintas? ¿No sería mejor emplear tantos datos como sea posible en entrenar el modelo? Además, a menudo se emplea una tercera partición de validación. Buscad para qué sirve (la vamos a usar aquí también!)\n",
    "</font>"
   ]
  },
  {
   "cell_type": "markdown",
   "id": "d8f75e99",
   "metadata": {},
   "source": [
    "<font color='green'> RESPUESTA AQUÍ </font>"
   ]
  },
  {
   "cell_type": "code",
   "execution_count": 2,
   "id": "8ed2e369",
   "metadata": {},
   "outputs": [
    {
     "name": "stdout",
     "output_type": "stream",
     "text": [
      "(60000, 784)\n"
     ]
    }
   ],
   "source": [
    "# Tenemos que mover los datos enteros al rango -1 a 1\n",
    "x_train = (x_train.astype(\"float32\") - 128) / 255\n",
    "x_test = (x_test.astype(\"float32\") - 128) / 255\n",
    "\n",
    "# Primero usaremos capas feedforward, así que simplemente vamos a\n",
    "# convertir nuestra imagen en un vector\n",
    "x_train_ff = x_train.reshape((-1, width * height))\n",
    "x_test_ff = x_test.reshape((-1, width * height))\n",
    "\n",
    "print(x_train_ff.shape)\n",
    "\n",
    "# Las imágenes tienen que tener una dimensión extra puesto que el modelo\n",
    "# espera 1 o más canales de entrada si usamos redes convolucionales.\n",
    "x_train_conv = np.expand_dims(x_train, -1)\n",
    "x_test_conv = np.expand_dims(x_test, -1)\n",
    "\n",
    "# La salida tiene que disponerse de forma que tengamos un vector\n",
    "# categórico, no una etiqueta única\n",
    "y_train = keras.utils.to_categorical(y_train, num_classes)\n",
    "y_test = keras.utils.to_categorical(y_test, num_classes)"
   ]
  },
  {
   "cell_type": "code",
   "execution_count": 3,
   "id": "45fd1679",
   "metadata": {},
   "outputs": [
    {
     "name": "stdout",
     "output_type": "stream",
     "text": [
      "Model: \"sequential\"\n",
      "_________________________________________________________________\n",
      " Layer (type)                Output Shape              Param #   \n",
      "=================================================================\n",
      " dense (Dense)               (None, 24)                18840     \n",
      "                                                                 \n",
      " dense_1 (Dense)             (None, 24)                600       \n",
      "                                                                 \n",
      " dense_2 (Dense)             (None, 12)                300       \n",
      "                                                                 \n",
      " dense_3 (Dense)             (None, 12)                156       \n",
      "                                                                 \n",
      " dense_4 (Dense)             (None, 10)                130       \n",
      "                                                                 \n",
      "=================================================================\n",
      "Total params: 20,026\n",
      "Trainable params: 20,026\n",
      "Non-trainable params: 0\n",
      "_________________________________________________________________\n"
     ]
    },
    {
     "name": "stderr",
     "output_type": "stream",
     "text": [
      "2022-11-13 19:03:45.810338: I tensorflow/stream_executor/cuda/cuda_gpu_executor.cc:980] successful NUMA node read from SysFS had negative value (-1), but there must be at least one NUMA node, so returning NUMA node zero\n",
      "2022-11-13 19:03:45.903486: I tensorflow/stream_executor/cuda/cuda_gpu_executor.cc:980] successful NUMA node read from SysFS had negative value (-1), but there must be at least one NUMA node, so returning NUMA node zero\n",
      "2022-11-13 19:03:45.904154: I tensorflow/stream_executor/cuda/cuda_gpu_executor.cc:980] successful NUMA node read from SysFS had negative value (-1), but there must be at least one NUMA node, so returning NUMA node zero\n",
      "2022-11-13 19:03:45.905896: I tensorflow/core/platform/cpu_feature_guard.cc:193] This TensorFlow binary is optimized with oneAPI Deep Neural Network Library (oneDNN) to use the following CPU instructions in performance-critical operations:  AVX2 FMA\n",
      "To enable them in other operations, rebuild TensorFlow with the appropriate compiler flags.\n",
      "2022-11-13 19:03:45.909474: I tensorflow/stream_executor/cuda/cuda_gpu_executor.cc:980] successful NUMA node read from SysFS had negative value (-1), but there must be at least one NUMA node, so returning NUMA node zero\n",
      "2022-11-13 19:03:45.910142: I tensorflow/stream_executor/cuda/cuda_gpu_executor.cc:980] successful NUMA node read from SysFS had negative value (-1), but there must be at least one NUMA node, so returning NUMA node zero\n",
      "2022-11-13 19:03:45.910802: I tensorflow/stream_executor/cuda/cuda_gpu_executor.cc:980] successful NUMA node read from SysFS had negative value (-1), but there must be at least one NUMA node, so returning NUMA node zero\n",
      "2022-11-13 19:03:46.688161: I tensorflow/stream_executor/cuda/cuda_gpu_executor.cc:980] successful NUMA node read from SysFS had negative value (-1), but there must be at least one NUMA node, so returning NUMA node zero\n",
      "2022-11-13 19:03:46.688324: I tensorflow/stream_executor/cuda/cuda_gpu_executor.cc:980] successful NUMA node read from SysFS had negative value (-1), but there must be at least one NUMA node, so returning NUMA node zero\n",
      "2022-11-13 19:03:46.688448: I tensorflow/stream_executor/cuda/cuda_gpu_executor.cc:980] successful NUMA node read from SysFS had negative value (-1), but there must be at least one NUMA node, so returning NUMA node zero\n",
      "2022-11-13 19:03:46.688552: I tensorflow/core/common_runtime/gpu/gpu_device.cc:1616] Created device /job:localhost/replica:0/task:0/device:GPU:0 with 6086 MB memory:  -> device: 0, name: NVIDIA GeForce RTX 3080, pci bus id: 0000:01:00.0, compute capability: 8.6\n"
     ]
    }
   ],
   "source": [
    "# Es hora de definir el modelo\n",
    "model = keras.Sequential(\n",
    "    [\n",
    "        keras.Input(shape=width * height),                        # Capa de entrada al modelo\n",
    "        layers.Dense(width * height // 32, activation=\"relu\"),     # Capa Feedforward 1\n",
    "        layers.Dense(width * height // 32, activation=\"relu\"),     # Capa Feedforward 2\n",
    "        layers.Dense(width * height // 64, activation=\"relu\"),     # Capa Feedforward 3\n",
    "        layers.Dense(width * height // 64, activation=\"relu\"),     # Capa Feedforward 4\n",
    "        \n",
    "        layers.Dense(num_classes, activation=\"softmax\"),           # La salida categorica\n",
    "                                                                   # necesita una capa\n",
    "                                                                   # softmax SIEMPRE\n",
    "    ]\n",
    ")\n",
    "\n",
    "model.summary()"
   ]
  },
  {
   "cell_type": "markdown",
   "id": "b0101187",
   "metadata": {},
   "source": [
    "En la visualización de arriba tenemos cada una de las capas intermedias del modelo, el tamaño de salida de cada capa y la cantidad de parámetros total.\n",
    "\n",
    "Estamos preparados para entrenar el modelo"
   ]
  },
  {
   "cell_type": "code",
   "execution_count": 4,
   "id": "90ff5fa6",
   "metadata": {},
   "outputs": [
    {
     "name": "stdout",
     "output_type": "stream",
     "text": [
      "Epoch 1/30\n",
      " 68/422 [===>..........................] - ETA: 0s - loss: 1.9557 - accuracy: 0.3209"
     ]
    },
    {
     "name": "stderr",
     "output_type": "stream",
     "text": [
      "2022-11-13 19:03:48.041896: I tensorflow/stream_executor/cuda/cuda_blas.cc:1614] TensorFloat-32 will be used for the matrix multiplication. This will only be logged once.\n"
     ]
    },
    {
     "name": "stdout",
     "output_type": "stream",
     "text": [
      "422/422 [==============================] - 2s 2ms/step - loss: 0.8561 - accuracy: 0.7263 - val_loss: 0.3426 - val_accuracy: 0.8977\n",
      "Epoch 2/30\n",
      "422/422 [==============================] - 1s 2ms/step - loss: 0.3538 - accuracy: 0.8955 - val_loss: 0.2718 - val_accuracy: 0.9210\n",
      "Epoch 3/30\n",
      "422/422 [==============================] - 1s 2ms/step - loss: 0.2981 - accuracy: 0.9114 - val_loss: 0.2240 - val_accuracy: 0.9332\n",
      "Epoch 4/30\n",
      "422/422 [==============================] - 1s 2ms/step - loss: 0.2657 - accuracy: 0.9212 - val_loss: 0.2243 - val_accuracy: 0.9347\n",
      "Epoch 5/30\n",
      "422/422 [==============================] - 1s 2ms/step - loss: 0.2421 - accuracy: 0.9281 - val_loss: 0.2077 - val_accuracy: 0.9378\n",
      "Epoch 6/30\n",
      "422/422 [==============================] - 1s 2ms/step - loss: 0.2261 - accuracy: 0.9333 - val_loss: 0.1833 - val_accuracy: 0.9440\n",
      "Epoch 7/30\n",
      "422/422 [==============================] - 1s 2ms/step - loss: 0.2099 - accuracy: 0.9381 - val_loss: 0.1770 - val_accuracy: 0.9483\n",
      "Epoch 8/30\n",
      "422/422 [==============================] - 1s 2ms/step - loss: 0.1979 - accuracy: 0.9418 - val_loss: 0.1624 - val_accuracy: 0.9535\n",
      "Epoch 9/30\n",
      "422/422 [==============================] - 1s 2ms/step - loss: 0.1913 - accuracy: 0.9435 - val_loss: 0.1515 - val_accuracy: 0.9555\n",
      "Epoch 10/30\n",
      "422/422 [==============================] - 1s 2ms/step - loss: 0.1817 - accuracy: 0.9465 - val_loss: 0.1714 - val_accuracy: 0.9503\n",
      "Epoch 11/30\n",
      "422/422 [==============================] - 1s 2ms/step - loss: 0.1743 - accuracy: 0.9477 - val_loss: 0.1501 - val_accuracy: 0.9562\n",
      "Epoch 12/30\n",
      "422/422 [==============================] - 1s 2ms/step - loss: 0.1721 - accuracy: 0.9484 - val_loss: 0.1439 - val_accuracy: 0.9575\n",
      "Epoch 13/30\n",
      "422/422 [==============================] - 1s 2ms/step - loss: 0.1646 - accuracy: 0.9515 - val_loss: 0.1563 - val_accuracy: 0.9527\n",
      "Epoch 14/30\n",
      "422/422 [==============================] - 1s 2ms/step - loss: 0.1600 - accuracy: 0.9521 - val_loss: 0.1504 - val_accuracy: 0.9548\n",
      "Epoch 15/30\n",
      "422/422 [==============================] - 1s 2ms/step - loss: 0.1530 - accuracy: 0.9533 - val_loss: 0.1460 - val_accuracy: 0.9575\n",
      "Epoch 16/30\n",
      "422/422 [==============================] - 1s 2ms/step - loss: 0.1518 - accuracy: 0.9537 - val_loss: 0.1434 - val_accuracy: 0.9595\n",
      "Epoch 17/30\n",
      "422/422 [==============================] - 1s 2ms/step - loss: 0.1468 - accuracy: 0.9551 - val_loss: 0.1562 - val_accuracy: 0.9545\n",
      "Epoch 18/30\n",
      "422/422 [==============================] - 1s 2ms/step - loss: 0.1442 - accuracy: 0.9567 - val_loss: 0.1386 - val_accuracy: 0.9617\n",
      "Epoch 19/30\n",
      "422/422 [==============================] - 1s 2ms/step - loss: 0.1384 - accuracy: 0.9589 - val_loss: 0.1423 - val_accuracy: 0.9615\n",
      "Epoch 20/30\n",
      "422/422 [==============================] - 1s 2ms/step - loss: 0.1372 - accuracy: 0.9576 - val_loss: 0.1372 - val_accuracy: 0.9607\n",
      "Epoch 21/30\n",
      "422/422 [==============================] - 1s 2ms/step - loss: 0.1330 - accuracy: 0.9598 - val_loss: 0.1386 - val_accuracy: 0.9605\n",
      "Epoch 22/30\n",
      "422/422 [==============================] - 1s 2ms/step - loss: 0.1293 - accuracy: 0.9603 - val_loss: 0.1383 - val_accuracy: 0.9608\n",
      "Epoch 23/30\n",
      "422/422 [==============================] - 1s 2ms/step - loss: 0.1282 - accuracy: 0.9608 - val_loss: 0.1417 - val_accuracy: 0.9605\n",
      "Epoch 24/30\n",
      "422/422 [==============================] - 1s 2ms/step - loss: 0.1274 - accuracy: 0.9612 - val_loss: 0.1400 - val_accuracy: 0.9585\n",
      "Epoch 25/30\n",
      "422/422 [==============================] - 1s 2ms/step - loss: 0.1231 - accuracy: 0.9621 - val_loss: 0.1392 - val_accuracy: 0.9612\n",
      "Epoch 26/30\n",
      "422/422 [==============================] - 1s 2ms/step - loss: 0.1239 - accuracy: 0.9617 - val_loss: 0.1364 - val_accuracy: 0.9627\n",
      "Epoch 27/30\n",
      "422/422 [==============================] - 1s 2ms/step - loss: 0.1198 - accuracy: 0.9638 - val_loss: 0.1335 - val_accuracy: 0.9632\n",
      "Epoch 28/30\n",
      "422/422 [==============================] - 1s 2ms/step - loss: 0.1193 - accuracy: 0.9635 - val_loss: 0.1368 - val_accuracy: 0.9610\n",
      "Epoch 29/30\n",
      "422/422 [==============================] - 1s 2ms/step - loss: 0.1168 - accuracy: 0.9636 - val_loss: 0.1349 - val_accuracy: 0.9612\n",
      "Epoch 30/30\n",
      "422/422 [==============================] - 1s 2ms/step - loss: 0.1148 - accuracy: 0.9644 - val_loss: 0.1294 - val_accuracy: 0.9650\n"
     ]
    },
    {
     "data": {
      "text/plain": [
       "<keras.callbacks.History at 0x7fe809e85750>"
      ]
     },
     "execution_count": 4,
     "metadata": {},
     "output_type": "execute_result"
    }
   ],
   "source": [
    "batch_size = 128\n",
    "epochs = 30\n",
    "\n",
    "model.compile(loss=\"categorical_crossentropy\", optimizer=\"adam\", metrics=[\"accuracy\"])\n",
    "model.fit(x_train_ff, y_train, batch_size=batch_size, epochs=epochs, validation_split=0.1)"
   ]
  },
  {
   "cell_type": "markdown",
   "id": "47c42de1",
   "metadata": {},
   "source": [
    "Ahora toca evaluar el modelo con la partición de test."
   ]
  },
  {
   "cell_type": "code",
   "execution_count": 5,
   "id": "63624d50",
   "metadata": {},
   "outputs": [
    {
     "name": "stdout",
     "output_type": "stream",
     "text": [
      "Test loss: 0.1519498974084854\n",
      "Test accuracy: 0.955299973487854\n"
     ]
    }
   ],
   "source": [
    "score = model.evaluate(x_test_ff, y_test, verbose=0)\n",
    "print(\"Test loss:\", score[0])\n",
    "print(\"Test accuracy:\", score[1])"
   ]
  },
  {
   "cell_type": "code",
   "execution_count": 6,
   "id": "e501ac3f",
   "metadata": {},
   "outputs": [
    {
     "data": {
      "image/png": "[encoded data removed]",
      "text/plain": [
       "<Figure size 640x480 with 1 Axes>"
      ]
     },
     "metadata": {},
     "output_type": "display_data"
    },
    {
     "name": "stdout",
     "output_type": "stream",
     "text": [
      "La clase de la imagen es 7\n"
     ]
    }
   ],
   "source": [
    "# Una vez el modelo está entrenado, podéis elegir una imagen cualquiera\n",
    "# del conjunto de test y ver como la clasifica\n",
    "\n",
    "index_sample = 0                      # elegimos la imagen 0 de test\n",
    "test_img = x_test[index_sample]\n",
    "test_class = y_test[index_sample]\n",
    "showimg(test_img[:,:, None])\n",
    "print(f\"La clase de la imagen es {np.argmax(test_class)}\")"
   ]
  },
  {
   "cell_type": "code",
   "execution_count": 7,
   "id": "20f6d5f3",
   "metadata": {},
   "outputs": [
    {
     "name": "stdout",
     "output_type": "stream",
     "text": [
      "El modelo predice una clase de 7\n"
     ]
    }
   ],
   "source": [
    "# La pasamos por el modelo, a ver qué dice\n",
    "\n",
    "class_output = model(test_img.reshape(-1, width * height))\n",
    "print(f\"El modelo predice una clase de {np.argmax(class_output)}\")"
   ]
  },
  {
   "cell_type": "markdown",
   "id": "239e663c",
   "metadata": {},
   "source": [
    "<font color='red'>\n",
    "Pregunta 5: Buscad información acerca de las métricas de evaluación. ¿Qué significa tener una accuracy del 75%? ¿Nos interesa que las accuracies de training, validación, y test se parezcan o sean muy distintas? ¿Qué relación tiene la loss con la calidad del modelo? ¿Es una buena forma de evaluar?\n",
    "</font>"
   ]
  },
  {
   "cell_type": "markdown",
   "id": "c164beb7",
   "metadata": {},
   "source": [
    "<font color='green'> RESPUESTA AQUÍ </font>"
   ]
  },
  {
   "cell_type": "markdown",
   "id": "07153054",
   "metadata": {},
   "source": [
    "<font color='red'>\n",
    "Pregunta 6: Fijáos que en el código que extrae la clase, he escrito un ''' np.argmax() '''. ¿Qué hace esta función y qué relación tiene con la función de loss Entropía Cruzada (Cross Entropy)?\n",
    "</font>"
   ]
  },
  {
   "cell_type": "markdown",
   "id": "b8e2915e",
   "metadata": {},
   "source": [
    "<font color='green'> RESPUESTA AQUÍ </font>"
   ]
  },
  {
   "cell_type": "markdown",
   "id": "0f1f949d",
   "metadata": {},
   "source": [
    "<font color='red'>\n",
    "Pregunta 7: Es vuestro turno. Debéis probar de añadir o quitar capas al modelo, cambiar sus tamaños o sus funciones de activación. Tenéis que dejar al menos 3 versiones del modelo, cada cuál con al menos un cambio significativo y de las cuales al menos una mejore los resultados en la partición de test. Después de cada modelo tenéis que resumir como afecta cada cambio al tiempo de ejecución, a la calidad del modelo, al número de parámetros y a la.\n",
    "</font>"
   ]
  },
  {
   "cell_type": "code",
   "execution_count": 8,
   "id": "c5dca5e3",
   "metadata": {},
   "outputs": [
    {
     "name": "stdout",
     "output_type": "stream",
     "text": [
      "Model: \"sequential_1\"\n",
      "_________________________________________________________________\n",
      " Layer (type)                Output Shape              Param #   \n",
      "=================================================================\n",
      " dense_5 (Dense)             (None, 24)                18840     \n",
      "                                                                 \n",
      " dense_6 (Dense)             (None, 24)                600       \n",
      "                                                                 \n",
      " dense_7 (Dense)             (None, 12)                300       \n",
      "                                                                 \n",
      " dense_8 (Dense)             (None, 12)                156       \n",
      "                                                                 \n",
      " dense_9 (Dense)             (None, 10)                130       \n",
      "                                                                 \n",
      "=================================================================\n",
      "Total params: 20,026\n",
      "Trainable params: 20,026\n",
      "Non-trainable params: 0\n",
      "_________________________________________________________________\n",
      "Epoch 1/30\n",
      "422/422 [==============================] - 1s 2ms/step - loss: 0.9524 - accuracy: 0.6959 - val_loss: 0.4013 - val_accuracy: 0.8923\n",
      "Epoch 2/30\n",
      "422/422 [==============================] - 1s 2ms/step - loss: 0.3996 - accuracy: 0.8809 - val_loss: 0.2952 - val_accuracy: 0.9098\n",
      "Epoch 3/30\n",
      "422/422 [==============================] - 1s 2ms/step - loss: 0.3161 - accuracy: 0.9059 - val_loss: 0.2388 - val_accuracy: 0.9300\n",
      "Epoch 4/30\n",
      "422/422 [==============================] - 1s 2ms/step - loss: 0.2759 - accuracy: 0.9170 - val_loss: 0.2109 - val_accuracy: 0.9388\n",
      "Epoch 5/30\n",
      "422/422 [==============================] - 1s 2ms/step - loss: 0.2529 - accuracy: 0.9245 - val_loss: 0.1905 - val_accuracy: 0.9428\n",
      "Epoch 6/30\n",
      "422/422 [==============================] - 1s 2ms/step - loss: 0.2315 - accuracy: 0.9303 - val_loss: 0.1810 - val_accuracy: 0.9455\n",
      "Epoch 7/30\n",
      "422/422 [==============================] - 1s 2ms/step - loss: 0.2164 - accuracy: 0.9345 - val_loss: 0.1722 - val_accuracy: 0.9443\n",
      "Epoch 8/30\n",
      "422/422 [==============================] - 1s 2ms/step - loss: 0.2063 - accuracy: 0.9375 - val_loss: 0.1732 - val_accuracy: 0.9485\n",
      "Epoch 9/30\n",
      "422/422 [==============================] - 1s 2ms/step - loss: 0.1960 - accuracy: 0.9398 - val_loss: 0.1833 - val_accuracy: 0.9442\n",
      "Epoch 10/30\n",
      "422/422 [==============================] - 1s 2ms/step - loss: 0.1858 - accuracy: 0.9433 - val_loss: 0.1581 - val_accuracy: 0.9532\n",
      "Epoch 11/30\n",
      "422/422 [==============================] - 1s 2ms/step - loss: 0.1772 - accuracy: 0.9464 - val_loss: 0.1508 - val_accuracy: 0.9548\n",
      "Epoch 12/30\n",
      "422/422 [==============================] - 1s 2ms/step - loss: 0.1734 - accuracy: 0.9470 - val_loss: 0.1452 - val_accuracy: 0.9563\n",
      "Epoch 13/30\n",
      "422/422 [==============================] - 1s 2ms/step - loss: 0.1666 - accuracy: 0.9496 - val_loss: 0.1481 - val_accuracy: 0.9558\n",
      "Epoch 14/30\n",
      "422/422 [==============================] - 1s 2ms/step - loss: 0.1612 - accuracy: 0.9516 - val_loss: 0.1493 - val_accuracy: 0.9547\n",
      "Epoch 15/30\n",
      "422/422 [==============================] - 1s 2ms/step - loss: 0.1564 - accuracy: 0.9526 - val_loss: 0.1414 - val_accuracy: 0.9590\n",
      "Epoch 16/30\n",
      "422/422 [==============================] - 1s 2ms/step - loss: 0.1518 - accuracy: 0.9536 - val_loss: 0.1371 - val_accuracy: 0.9590\n",
      "Epoch 17/30\n",
      "422/422 [==============================] - 1s 2ms/step - loss: 0.1488 - accuracy: 0.9545 - val_loss: 0.1422 - val_accuracy: 0.9570\n",
      "Epoch 18/30\n",
      "422/422 [==============================] - 1s 2ms/step - loss: 0.1443 - accuracy: 0.9562 - val_loss: 0.1384 - val_accuracy: 0.9608\n",
      "Epoch 19/30\n",
      "422/422 [==============================] - 1s 3ms/step - loss: 0.1419 - accuracy: 0.9567 - val_loss: 0.1312 - val_accuracy: 0.9610\n",
      "Epoch 20/30\n",
      "422/422 [==============================] - 1s 2ms/step - loss: 0.1366 - accuracy: 0.9588 - val_loss: 0.1321 - val_accuracy: 0.9627\n",
      "Epoch 21/30\n",
      "422/422 [==============================] - 1s 2ms/step - loss: 0.1364 - accuracy: 0.9591 - val_loss: 0.1359 - val_accuracy: 0.9622\n",
      "Epoch 22/30\n",
      "422/422 [==============================] - 1s 2ms/step - loss: 0.1345 - accuracy: 0.9589 - val_loss: 0.1305 - val_accuracy: 0.9618\n",
      "Epoch 23/30\n",
      "422/422 [==============================] - 1s 2ms/step - loss: 0.1297 - accuracy: 0.9600 - val_loss: 0.1308 - val_accuracy: 0.9592\n",
      "Epoch 24/30\n",
      "422/422 [==============================] - 1s 2ms/step - loss: 0.1309 - accuracy: 0.9594 - val_loss: 0.1319 - val_accuracy: 0.9602\n",
      "Epoch 25/30\n",
      "422/422 [==============================] - 1s 2ms/step - loss: 0.1273 - accuracy: 0.9608 - val_loss: 0.1377 - val_accuracy: 0.9585\n",
      "Epoch 26/30\n",
      "422/422 [==============================] - 1s 2ms/step - loss: 0.1237 - accuracy: 0.9622 - val_loss: 0.1259 - val_accuracy: 0.9628\n",
      "Epoch 27/30\n",
      "422/422 [==============================] - 1s 2ms/step - loss: 0.1214 - accuracy: 0.9630 - val_loss: 0.1355 - val_accuracy: 0.9622\n",
      "Epoch 28/30\n",
      "422/422 [==============================] - 1s 2ms/step - loss: 0.1186 - accuracy: 0.9634 - val_loss: 0.1232 - val_accuracy: 0.9638\n",
      "Epoch 29/30\n",
      "422/422 [==============================] - 1s 2ms/step - loss: 0.1174 - accuracy: 0.9638 - val_loss: 0.1439 - val_accuracy: 0.9552\n",
      "Epoch 30/30\n",
      "422/422 [==============================] - 1s 2ms/step - loss: 0.1146 - accuracy: 0.9642 - val_loss: 0.1384 - val_accuracy: 0.9613\n",
      "Test loss: 0.16601847112178802\n",
      "Test accuracy: 0.9520999789237976\n"
     ]
    }
   ],
   "source": [
    "# MODELO 1 \n",
    "model1 = keras.Sequential(\n",
    "    [\n",
    "        keras.Input(shape=width * height),\n",
    "        \n",
    "        # # # # # # Modificad estas capas\n",
    "        layers.Dense(width * height // 32, activation=\"relu\"),     \n",
    "        layers.Dense(width * height // 32, activation=\"relu\"),     \n",
    "        layers.Dense(width * height // 64, activation=\"relu\"),     \n",
    "        layers.Dense(width * height // 64, activation=\"relu\"), \n",
    "        # # # # # # \n",
    "        \n",
    "        layers.Dense(num_classes, activation=\"softmax\"),\n",
    "    ]\n",
    ")\n",
    "\n",
    "model1.summary()\n",
    "\n",
    "model1.compile(loss=\"categorical_crossentropy\", optimizer=\"adam\", metrics=[\"accuracy\"])\n",
    "model1.fit(x_train_ff, y_train, batch_size=batch_size, epochs=epochs, validation_split=0.1)\n",
    "\n",
    "score = model1.evaluate(x_test_ff, y_test, verbose=0)\n",
    "print(\"Test loss:\", score[0])\n",
    "print(\"Test accuracy:\", score[1])"
   ]
  },
  {
   "cell_type": "markdown",
   "id": "c4efb3b3",
   "metadata": {},
   "source": [
    "<font color='green'> VALORACIÓN DEL MODELO 1 AQUÍ </font>"
   ]
  },
  {
   "cell_type": "code",
   "execution_count": 9,
   "id": "1558fbaf",
   "metadata": {},
   "outputs": [
    {
     "name": "stdout",
     "output_type": "stream",
     "text": [
      "Model: \"sequential_2\"\n",
      "_________________________________________________________________\n",
      " Layer (type)                Output Shape              Param #   \n",
      "=================================================================\n",
      " dense_10 (Dense)            (None, 24)                18840     \n",
      "                                                                 \n",
      " dense_11 (Dense)            (None, 24)                600       \n",
      "                                                                 \n",
      " dense_12 (Dense)            (None, 12)                300       \n",
      "                                                                 \n",
      " dense_13 (Dense)            (None, 12)                156       \n",
      "                                                                 \n",
      " dense_14 (Dense)            (None, 10)                130       \n",
      "                                                                 \n",
      "=================================================================\n",
      "Total params: 20,026\n",
      "Trainable params: 20,026\n",
      "Non-trainable params: 0\n",
      "_________________________________________________________________\n",
      "Epoch 1/30\n",
      "422/422 [==============================] - 1s 2ms/step - loss: 1.0414 - accuracy: 0.6562 - val_loss: 0.4608 - val_accuracy: 0.8680\n",
      "Epoch 2/30\n",
      "422/422 [==============================] - 1s 2ms/step - loss: 0.4576 - accuracy: 0.8674 - val_loss: 0.3292 - val_accuracy: 0.9043\n",
      "Epoch 3/30\n",
      "422/422 [==============================] - 1s 2ms/step - loss: 0.3523 - accuracy: 0.8985 - val_loss: 0.2732 - val_accuracy: 0.9198\n",
      "Epoch 4/30\n",
      "422/422 [==============================] - 1s 2ms/step - loss: 0.3007 - accuracy: 0.9117 - val_loss: 0.2588 - val_accuracy: 0.9293\n",
      "Epoch 5/30\n",
      "422/422 [==============================] - 1s 2ms/step - loss: 0.2712 - accuracy: 0.9200 - val_loss: 0.2030 - val_accuracy: 0.9432\n",
      "Epoch 6/30\n",
      "422/422 [==============================] - 1s 2ms/step - loss: 0.2524 - accuracy: 0.9248 - val_loss: 0.2115 - val_accuracy: 0.9382\n",
      "Epoch 7/30\n",
      "422/422 [==============================] - 1s 2ms/step - loss: 0.2417 - accuracy: 0.9279 - val_loss: 0.1848 - val_accuracy: 0.9472\n",
      "Epoch 8/30\n",
      "422/422 [==============================] - 1s 2ms/step - loss: 0.2300 - accuracy: 0.9310 - val_loss: 0.1810 - val_accuracy: 0.9457\n",
      "Epoch 9/30\n",
      "422/422 [==============================] - 1s 2ms/step - loss: 0.2195 - accuracy: 0.9349 - val_loss: 0.1774 - val_accuracy: 0.9467\n",
      "Epoch 10/30\n",
      "422/422 [==============================] - 1s 2ms/step - loss: 0.2126 - accuracy: 0.9369 - val_loss: 0.2116 - val_accuracy: 0.9352\n",
      "Epoch 11/30\n",
      "422/422 [==============================] - 1s 2ms/step - loss: 0.2076 - accuracy: 0.9382 - val_loss: 0.1694 - val_accuracy: 0.9485\n",
      "Epoch 12/30\n",
      "422/422 [==============================] - 1s 2ms/step - loss: 0.1976 - accuracy: 0.9418 - val_loss: 0.1754 - val_accuracy: 0.9472\n",
      "Epoch 13/30\n",
      "422/422 [==============================] - 1s 2ms/step - loss: 0.1929 - accuracy: 0.9430 - val_loss: 0.1685 - val_accuracy: 0.9502\n",
      "Epoch 14/30\n",
      "422/422 [==============================] - 1s 2ms/step - loss: 0.1878 - accuracy: 0.9441 - val_loss: 0.1598 - val_accuracy: 0.9522\n",
      "Epoch 15/30\n",
      "422/422 [==============================] - 1s 2ms/step - loss: 0.1828 - accuracy: 0.9451 - val_loss: 0.1741 - val_accuracy: 0.9482\n",
      "Epoch 16/30\n",
      "422/422 [==============================] - 1s 2ms/step - loss: 0.1798 - accuracy: 0.9463 - val_loss: 0.1716 - val_accuracy: 0.9453\n",
      "Epoch 17/30\n",
      "422/422 [==============================] - 1s 2ms/step - loss: 0.1739 - accuracy: 0.9480 - val_loss: 0.1520 - val_accuracy: 0.9538\n",
      "Epoch 18/30\n",
      "422/422 [==============================] - 1s 2ms/step - loss: 0.1728 - accuracy: 0.9483 - val_loss: 0.1487 - val_accuracy: 0.9548\n",
      "Epoch 19/30\n",
      "422/422 [==============================] - 1s 2ms/step - loss: 0.1674 - accuracy: 0.9489 - val_loss: 0.1722 - val_accuracy: 0.9478\n",
      "Epoch 20/30\n",
      "422/422 [==============================] - 1s 2ms/step - loss: 0.1649 - accuracy: 0.9498 - val_loss: 0.1564 - val_accuracy: 0.9525\n",
      "Epoch 21/30\n",
      "422/422 [==============================] - 1s 2ms/step - loss: 0.1631 - accuracy: 0.9515 - val_loss: 0.1513 - val_accuracy: 0.9523\n",
      "Epoch 22/30\n",
      "422/422 [==============================] - 1s 2ms/step - loss: 0.1604 - accuracy: 0.9519 - val_loss: 0.1607 - val_accuracy: 0.9500\n",
      "Epoch 23/30\n",
      "422/422 [==============================] - 1s 2ms/step - loss: 0.1561 - accuracy: 0.9519 - val_loss: 0.1543 - val_accuracy: 0.9515\n",
      "Epoch 24/30\n",
      "422/422 [==============================] - 1s 2ms/step - loss: 0.1578 - accuracy: 0.9514 - val_loss: 0.1462 - val_accuracy: 0.9543\n",
      "Epoch 25/30\n",
      "422/422 [==============================] - 1s 2ms/step - loss: 0.1539 - accuracy: 0.9533 - val_loss: 0.1594 - val_accuracy: 0.9503\n",
      "Epoch 26/30\n",
      "422/422 [==============================] - 1s 2ms/step - loss: 0.1508 - accuracy: 0.9543 - val_loss: 0.1432 - val_accuracy: 0.9550\n",
      "Epoch 27/30\n",
      "422/422 [==============================] - 1s 2ms/step - loss: 0.1477 - accuracy: 0.9549 - val_loss: 0.1446 - val_accuracy: 0.9552\n",
      "Epoch 28/30\n",
      "422/422 [==============================] - 1s 2ms/step - loss: 0.1460 - accuracy: 0.9554 - val_loss: 0.1547 - val_accuracy: 0.9527\n",
      "Epoch 29/30\n",
      "422/422 [==============================] - 1s 2ms/step - loss: 0.1441 - accuracy: 0.9561 - val_loss: 0.1447 - val_accuracy: 0.9560\n",
      "Epoch 30/30\n",
      "422/422 [==============================] - 1s 2ms/step - loss: 0.1429 - accuracy: 0.9559 - val_loss: 0.1391 - val_accuracy: 0.9565\n",
      "Test loss: 0.18553748726844788\n",
      "Test accuracy: 0.944599986076355\n"
     ]
    }
   ],
   "source": [
    "# MODELO 2\n",
    "model2 = keras.Sequential(\n",
    "    [\n",
    "        keras.Input(shape=width * height),\n",
    "        \n",
    "        # # # # # # Modificad estas capas\n",
    "        layers.Dense(width * height // 32, activation=\"relu\"),     \n",
    "        layers.Dense(width * height // 32, activation=\"relu\"),     \n",
    "        layers.Dense(width * height // 64, activation=\"relu\"),     \n",
    "        layers.Dense(width * height // 64, activation=\"relu\"), \n",
    "        # # # # # # \n",
    "        \n",
    "        layers.Dense(num_classes, activation=\"softmax\"),\n",
    "    ]\n",
    ")\n",
    "\n",
    "model2.summary()\n",
    "\n",
    "model2.compile(loss=\"categorical_crossentropy\", optimizer=\"adam\", metrics=[\"accuracy\"])\n",
    "model2.fit(x_train_ff, y_train, batch_size=batch_size, epochs=epochs, validation_split=0.1)\n",
    "\n",
    "score = model2.evaluate(x_test_ff, y_test, verbose=0)\n",
    "print(\"Test loss:\", score[0])\n",
    "print(\"Test accuracy:\", score[1])"
   ]
  },
  {
   "cell_type": "markdown",
   "id": "82501455",
   "metadata": {},
   "source": [
    "<font color='green'> VALORACIÓN DEL MODELO 2 AQUÍ </font>"
   ]
  },
  {
   "cell_type": "code",
   "execution_count": null,
   "id": "b9f12f57",
   "metadata": {},
   "outputs": [
    {
     "name": "stdout",
     "output_type": "stream",
     "text": [
      "Model: \"sequential_3\"\n",
      "_________________________________________________________________\n",
      " Layer (type)                Output Shape              Param #   \n",
      "=================================================================\n",
      " dense_15 (Dense)            (None, 24)                18840     \n",
      "                                                                 \n",
      " dense_16 (Dense)            (None, 24)                600       \n",
      "                                                                 \n",
      " dense_17 (Dense)            (None, 12)                300       \n",
      "                                                                 \n",
      " dense_18 (Dense)            (None, 12)                156       \n",
      "                                                                 \n",
      " dense_19 (Dense)            (None, 10)                130       \n",
      "                                                                 \n",
      "=================================================================\n",
      "Total params: 20,026\n",
      "Trainable params: 20,026\n",
      "Non-trainable params: 0\n",
      "_________________________________________________________________\n",
      "Epoch 1/30\n",
      "422/422 [==============================] - 1s 2ms/step - loss: 1.0009 - accuracy: 0.6559 - val_loss: 0.4468 - val_accuracy: 0.8603\n",
      "Epoch 2/30\n",
      "422/422 [==============================] - 1s 2ms/step - loss: 0.4436 - accuracy: 0.8644 - val_loss: 0.3126 - val_accuracy: 0.9062\n",
      "Epoch 3/30\n",
      "422/422 [==============================] - 1s 2ms/step - loss: 0.3487 - accuracy: 0.8947 - val_loss: 0.2673 - val_accuracy: 0.9182\n",
      "Epoch 4/30\n",
      "422/422 [==============================] - 1s 2ms/step - loss: 0.2935 - accuracy: 0.9125 - val_loss: 0.2205 - val_accuracy: 0.9342\n",
      "Epoch 5/30\n",
      "422/422 [==============================] - 1s 2ms/step - loss: 0.2574 - accuracy: 0.9232 - val_loss: 0.1961 - val_accuracy: 0.9420\n",
      "Epoch 6/30\n",
      "422/422 [==============================] - 1s 2ms/step - loss: 0.2324 - accuracy: 0.9305 - val_loss: 0.2157 - val_accuracy: 0.9358\n",
      "Epoch 7/30\n",
      "422/422 [==============================] - 1s 2ms/step - loss: 0.2159 - accuracy: 0.9357 - val_loss: 0.1763 - val_accuracy: 0.9498\n",
      "Epoch 8/30\n",
      "422/422 [==============================] - 1s 2ms/step - loss: 0.2030 - accuracy: 0.9381 - val_loss: 0.1591 - val_accuracy: 0.9513\n",
      "Epoch 9/30\n",
      "422/422 [==============================] - 1s 2ms/step - loss: 0.1901 - accuracy: 0.9426 - val_loss: 0.1760 - val_accuracy: 0.9465\n",
      "Epoch 10/30\n",
      "422/422 [==============================] - 1s 2ms/step - loss: 0.1828 - accuracy: 0.9450 - val_loss: 0.1588 - val_accuracy: 0.9507\n",
      "Epoch 11/30\n",
      "  1/422 [..............................] - ETA: 1s - loss: 0.1445 - accuracy: 0.9688"
     ]
    }
   ],
   "source": [
    "# MODELO 3\n",
    "model3 = keras.Sequential(\n",
    "    [\n",
    "        keras.Input(shape=width * height),\n",
    "        \n",
    "        # # # # # # Modificad estas capas\n",
    "        layers.Dense(width * height // 32, activation=\"relu\"),     \n",
    "        layers.Dense(width * height // 32, activation=\"relu\"),     \n",
    "        layers.Dense(width * height // 64, activation=\"relu\"),     \n",
    "        layers.Dense(width * height // 64, activation=\"relu\"), \n",
    "        # # # # # # \n",
    "        \n",
    "        layers.Dense(num_classes, activation=\"softmax\"),\n",
    "    ]\n",
    ")\n",
    "\n",
    "model3.summary()\n",
    "\n",
    "model3.compile(loss=\"categorical_crossentropy\", optimizer=\"adam\", metrics=[\"accuracy\"])\n",
    "model3.fit(x_train_ff, y_train, batch_size=batch_size, epochs=epochs, validation_split=0.1)\n",
    "\n",
    "score = model3.evaluate(x_test_ff, y_test, verbose=0)\n",
    "print(\"Test loss:\", score[0])\n",
    "print(\"Test accuracy:\", score[1])"
   ]
  },
  {
   "cell_type": "markdown",
   "id": "d2ce1ab2",
   "metadata": {},
   "source": [
    "<font color='green'> VALORACIÓN DEL MODELO 3 AQUÍ </font>"
   ]
  },
  {
   "cell_type": "markdown",
   "id": "d1e50103",
   "metadata": {},
   "source": [
    "<font color='red'>\n",
    "Pregunta extra: Ahora tratad de implementar un modelo basado en capas convolucionales. Observad las principales diferencias en rendimiento, tiempo de ejecución y número de parámetros con las versiones feedforward. ¿A qué se deben estas diferencias? \n",
    "</font>\n",
    "\n",
    "Basáos en el [ejemplo](https://keras.io/examples/vision/mnist_convnet/) de Keras. Si usáis capas que no hayamos visto en clase o en el lab, investigad acerca de su función."
   ]
  },
  {
   "cell_type": "code",
   "execution_count": null,
   "id": "a644b47f",
   "metadata": {},
   "outputs": [],
   "source": [
    "# MODELO 3\n",
    "model_conv = keras.Sequential(\n",
    "    [\n",
    "        keras.Input(shape=(28, 28, 1)),\n",
    "        \n",
    "        # Codigo aqui\n",
    "        \n",
    "        layers.Dense(num_classes, activation=\"softmax\"),\n",
    "    ]\n",
    ")\n",
    "\n",
    "model_conv.summary()\n",
    "\n",
    "model_conv.compile(loss=\"categorical_crossentropy\", optimizer=\"adam\", metrics=[\"accuracy\"])\n",
    "model_conv.fit(x_train_conv, y_train, batch_size=batch_size, epochs=epochs, validation_split=0.1)\n",
    "\n",
    "score = model_conv.evaluate(x_test_conv, y_test, verbose=0)\n",
    "print(\"Test loss:\", score[0])\n",
    "print(\"Test accuracy:\", score[1])"
   ]
  }
 ],
 "metadata": {
  "kernelspec": {
   "display_name": "Python 3 (ipykernel)",
   "language": "python",
   "name": "python3"
  },
  "language_info": {
   "codemirror_mode": {
    "name": "ipython",
    "version": 3
   },
   "file_extension": ".py",
   "mimetype": "text/x-python",
   "name": "python",
   "nbconvert_exporter": "python",
   "pygments_lexer": "ipython3",
   "version": "3.10.6"
  }
 },
 "nbformat": 4,
 "nbformat_minor": 5
}
