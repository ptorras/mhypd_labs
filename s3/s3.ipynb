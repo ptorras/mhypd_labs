{
 "cells": [
  {
   "cell_type": "markdown",
   "id": "11bd60be",
   "metadata": {},
   "source": [
    "# Sesión 3: Inteligencia Artificial"
   ]
  },
  {
   "cell_type": "markdown",
   "id": "6a0c725e",
   "metadata": {},
   "source": [
    "Para esta sesión tenéis que responder a las preguntas de las celdas en rojo en la celda adyacente. La entrega se realizará exportando el Jupyter Notebook a pdf y entregándolo en el espacio del Campus Virtual antes de una semana desde el momento de la práctica (22/11/2022 - 23:59)"
   ]
  },
  {
   "cell_type": "markdown",
   "id": "ae7cd811",
   "metadata": {
    "pycharm": {
     "name": ""
    }
   },
   "source": [
    "## 3.1 Creación de un modelo de clasificación simple\n",
    "\n",
    "Durante la lección de hoy hemos visto redes neuronales para dos propósitos distintos: modelado de una magnitud continua (regresión) y de una magnitud discreta (Clasificación). En esta práctica vamos a ver como implementar uno de estos modelos de forma muy simple empleando la biblioteca **Keras**.\n",
    "\n",
    "![El logotipo de Keras](https://camo.githubusercontent.com/906e661107a3bc03104ca5d88336d1f4b0e80fdcac65efaf7904041d371c747f/68747470733a2f2f73332e616d617a6f6e6177732e636f6d2f6b657261732e696f2f696d672f6b657261732d6c6f676f2d323031382d6c617267652d313230302e706e67)\n",
    "\n",
    "Keras es una biblioteca que abstrae prácticamente todos los aspectos computacionales de construir una red neuronal, dejando para el desarrollador solamente definir la estructura del modelo.\n",
    "\n",
    "-------\n",
    "\n",
    "Así pues, **¿cómo se estructura una red neuronal?**\n",
    "\n",
    "Las redes neuronales se construyen insertando capas. Cada capa suele componerse de un conjunto de **parámetros** con los que efectuamos las transformaciones de los datos de entrada para obtener los datos de salida. Cómo operar con estos parámetros depende del tipo de capas que estemos empleando - las hay para una gran diversidad de tareas!"
   ]
  },
  {
   "cell_type": "markdown",
   "id": "d6dcb99c",
   "metadata": {},
   "source": [
    "![Un ejemplo de visualización de una red neuronal](https://miro.medium.com/max/1400/1*Cdim7OfioKQj_rLI9GbNng.png)"
   ]
  },
  {
   "cell_type": "markdown",
   "id": "1763e62b",
   "metadata": {},
   "source": [
    "<font color='red'>\n",
    "Pregunta 1: Buscad algunos de los tipos de capas con parámetros más frecuentes y explicad brevemente para qué se usan: Capa Feedforward/Linear/Fully Connected, Capa Convolucional, Capa Recurrente.\n",
    "</font>\n",
    "\n",
    "Recomendación: Podéis investigar la [documentación de Keras](https://keras.io/api/layers/) o leer algunos artículos: Redes [Convolucionales](https://towardsdatascience.com/a-comprehensive-guide-to-convolutional-neural-networks-the-eli5-way-3bd2b1164a53), [Recurrentes](https://stanford.edu/~shervine/teaching/cs-230/cheatsheet-recurrent-neural-networks), [Feedforward](https://towardsdatascience.com/feed-forward-neural-networks-how-to-successfully-build-them-in-python-74503409d99a). **Son solo algunos sitios recomendados, no hace falta leerlos en su totalidad ni ceñirse a ellos**"
   ]
  },
  {
   "cell_type": "markdown",
   "id": "05c11172",
   "metadata": {},
   "source": [
    "<font color='green'> RESPUESTA AQUÍ </font>"
   ]
  },
  {
   "cell_type": "markdown",
   "id": "a070f0e5",
   "metadata": {},
   "source": [
    "Después de cada capa con parámetros, se suele insertar una capa de **activación**, cuya tarea es simular las neuronas reales de los cerebros humanos: Despues de recibir los estímulos de entrada de las neuronas precedentes, cada neurona se activa produciendo un valor de salida dependiendo de si se supera un umbral o no. En los gráficos a continuación podéis ver algunas de las funciones de activación más típicas. El eje horizontal describe el valor de **entrada** a la capa de activación y el eje vertical denota el valor de **salida**."
   ]
  },
  {
   "cell_type": "markdown",
   "id": "fc11ab63",
   "metadata": {},
   "source": [
    "![Gráfico de la función ReLU](https://miro.medium.com/max/1400/1*Mk3tjKLpxNKQUnhKSeqRaA.png)\n"
   ]
  },
  {
   "cell_type": "markdown",
   "id": "3cec3fd0",
   "metadata": {},
   "source": [
    "<font color='red'>\n",
    "Pregunta 2: La función de activación más frecuente hoy en día es la función ReLU. ¿Qué debe ocurrir para que una neurona produzca un valor de salida positivo? ¿Puede producirse un valor de salida negativo?\n",
    "</font>"
   ]
  },
  {
   "cell_type": "markdown",
   "id": "9c75eb9f",
   "metadata": {},
   "source": [
    "<font color='green'> RESPUESTA AQUÍ </font>"
   ]
  },
  {
   "cell_type": "markdown",
   "id": "e078839e",
   "metadata": {},
   "source": [
    "La pregunta más natural que se os puede ocurrir es, ¿con qué criterio se estructuran las redes neuronales? ¿Cómo se decide qué capas poner, qué activaciones, etc?\n",
    "\n",
    "Lo cierto es que es un proceso totalmente *arbitrario*. La ciencia de las redes neuronales se basa en el empirismo puro, lo que es una forma bonita de decir que es una cuestión de **prueba y error**. A partir de este conocimiento empírico se puede saber qué tipo de red y con qué numero de parámetros es probable obtener buenos resultados en una tarea determinada: por ejemplo, hay conjuntos de datos muy simples con los que con unos pocos miles de parámetros dispuestos en no mas de siete u ocho capas basta para obtener resultados de cerca del 100% de precisión. Sin embargo, hay tareas (como por ejemplo el COCO dataset que hemos visto durante la clase) para los cuales ni siquiera redes de centenares de millones de parámetros bastan (aunque sí son lo bastante buenas para producir resultados respetables)."
   ]
  },
  {
   "cell_type": "markdown",
   "id": "db4f14f6",
   "metadata": {},
   "source": [
    "<font color='red'>\n",
    "Pregunta 3: A lo largo de los años se han creado formas de diseñar modelos de forma automatizada para mejorar los resultados y reducir el coste humano de implementar redes neuronales. Definid brevemente en qué consiste NAS (Neural Architecture Search). ¿Cuál es su principal inconveniente?\n",
    "</font>"
   ]
  },
  {
   "cell_type": "markdown",
   "id": "77858329",
   "metadata": {},
   "source": [
    "<font color='green'> RESPUESTA AQUÍ </font>"
   ]
  },
  {
   "cell_type": "markdown",
   "id": "138ad86b",
   "metadata": {},
   "source": [
    "## 3.2 Manos a la obra\n",
    "\n",
    "Vamos pues a implementar nuestra propia red neuronal de clasificación. Emplearemos uno de los conjuntos de datos predeterminados de Keras, el Dataset MNIST. Es un conjunto de imagenes con números manuscritos del 0 al 9, y el objetivo de clasificación es determinar a qué numero hacen referencia.\n",
    "\n",
    "Este código está basado en el propio [tutorial](https://keras.io/examples/vision/mnist_convnet/) de Keras disponible en su documentación. En general, hagáis lo que hagáis, es **muy** recomendable que leáis los recursos que tiene Keras acerca de Deep Learning, puesto que es una herramienta muy completa con muchísimos ejemplos."
   ]
  },
  {
   "cell_type": "code",
   "execution_count": null,
   "id": "841166b8",
   "metadata": {},
   "outputs": [],
   "source": [
    "from tensorflow import keras\n",
    "from tensorflow.keras import layers\n",
    "\n",
    "import matplotlib.pyplot as plt\n",
    "import numpy as np\n",
    "\n",
    "def showimg(img):\n",
    "    plt.figure()\n",
    "    plt.imshow(img)\n",
    "    plt.show()\n",
    "    plt.close()\n",
    "\n",
    "# Cargamos los datos del dataset MNIST en particiones de entrenamiento y test\n",
    "(x_train, y_train), (x_test, y_test) = keras.datasets.mnist.load_data()\n",
    "num_classes = 10\n",
    "n_elms, width, height = x_train.shape\n",
    "\n",
    "# Miramos la forma de los datos. Tenemos 60k imagenes de entrenamiento de un\n",
    "# tamaño de 28 píxeles por 28 con un solo canal. En test tenemos otras 10k imágenes.\n",
    "print(x_train.shape, x_test.shape)\n",
    "\n",
    "# Comprobamos que todo está en orden visualizando una imagen\n",
    "showimg(x_train[0, :])\n",
    "print(f\"La clase de salida de la muestra es un {y_train[0]}\")"
   ]
  },
  {
   "cell_type": "markdown",
   "id": "03b097ef",
   "metadata": {},
   "source": [
    "<font color='red'>\n",
    "Pregunta 4: Los más observadores habréis visto que hay *dos* conjuntos de datos distintos - train y test. Una de estas mitades de los datos se usa para entrenar el modelo y la otra para evaluar como funciona. No obstante, ¿por qué creéis que se usan particiones distintas? ¿No sería mejor emplear tantos datos como sea posible en entrenar el modelo? Además, a menudo se emplea una tercera partición de validación. Buscad para qué sirve (la vamos a usar aquí también!)\n",
    "</font>"
   ]
  },
  {
   "cell_type": "markdown",
   "id": "d8f75e99",
   "metadata": {},
   "source": [
    "<font color='green'> RESPUESTA AQUÍ </font>"
   ]
  },
  {
   "cell_type": "code",
   "execution_count": null,
   "id": "8ed2e369",
   "metadata": {},
   "outputs": [],
   "source": [
    "# Tenemos que mover los datos enteros al rango -1 a 1\n",
    "x_train = (x_train.astype(\"float32\") - 128) / 255\n",
    "x_test = (x_test.astype(\"float32\") - 128) / 255\n",
    "\n",
    "# Primero usaremos capas feedforward, así que simplemente vamos a\n",
    "# convertir nuestra imagen en un vector\n",
    "x_train_ff = x_train.reshape((-1, width * height))\n",
    "x_test_ff = x_test.reshape((-1, width * height))\n",
    "\n",
    "print(x_train_ff.shape)\n",
    "\n",
    "# Las imágenes tienen que tener una dimensión extra puesto que el modelo\n",
    "# espera 1 o más canales de entrada si usamos redes convolucionales.\n",
    "x_train_conv = np.expand_dims(x_train, -1)\n",
    "x_test_conv = np.expand_dims(x_test, -1)\n",
    "\n",
    "# La salida tiene que disponerse de forma que tengamos un vector\n",
    "# categórico, no una etiqueta única\n",
    "y_train = keras.utils.to_categorical(y_train, num_classes)\n",
    "y_test = keras.utils.to_categorical(y_test, num_classes)"
   ]
  },
  {
   "cell_type": "code",
   "execution_count": null,
   "id": "45fd1679",
   "metadata": {},
   "outputs": [],
   "source": [
    "# Es hora de definir el modelo\n",
    "model = keras.Sequential(\n",
    "    [\n",
    "        keras.Input(shape=width * height),                        # Capa de entrada al modelo\n",
    "        layers.Dense(width * height // 32, activation=\"relu\"),     # Capa Feedforward 1\n",
    "        layers.Dense(width * height // 32, activation=\"relu\"),     # Capa Feedforward 2\n",
    "        layers.Dense(width * height // 64, activation=\"relu\"),     # Capa Feedforward 3\n",
    "        layers.Dense(width * height // 64, activation=\"relu\"),     # Capa Feedforward 4\n",
    "        \n",
    "        layers.Dense(num_classes, activation=\"softmax\"),           # La salida categorica\n",
    "                                                                   # necesita una capa\n",
    "                                                                   # softmax SIEMPRE\n",
    "    ]\n",
    ")\n",
    "\n",
    "model.summary()"
   ]
  },
  {
   "cell_type": "markdown",
   "id": "b0101187",
   "metadata": {},
   "source": [
    "En la visualización de arriba tenemos cada una de las capas intermedias del modelo, el tamaño de salida de cada capa y la cantidad de parámetros total.\n",
    "\n",
    "Estamos preparados para entrenar el modelo"
   ]
  },
  {
   "cell_type": "code",
   "execution_count": null,
   "id": "90ff5fa6",
   "metadata": {},
   "outputs": [],
   "source": [
    "batch_size = 128\n",
    "epochs = 30\n",
    "\n",
    "model.compile(loss=\"categorical_crossentropy\", optimizer=\"adam\", metrics=[\"accuracy\"])\n",
    "model.fit(x_train_ff, y_train, batch_size=batch_size, epochs=epochs, validation_split=0.1)"
   ]
  },
  {
   "cell_type": "markdown",
   "id": "47c42de1",
   "metadata": {},
   "source": [
    "Ahora toca evaluar el modelo con la partición de test."
   ]
  },
  {
   "cell_type": "code",
   "execution_count": null,
   "id": "63624d50",
   "metadata": {},
   "outputs": [],
   "source": [
    "score = model.evaluate(x_test_ff, y_test, verbose=0)\n",
    "print(\"Test loss:\", score[0])\n",
    "print(\"Test accuracy:\", score[1])"
   ]
  },
  {
   "cell_type": "code",
   "execution_count": null,
   "id": "e501ac3f",
   "metadata": {},
   "outputs": [],
   "source": [
    "# Una vez el modelo está entrenado, podéis elegir una imagen cualquiera\n",
    "# del conjunto de test y ver como la clasifica\n",
    "\n",
    "index_sample = 0                      # elegimos la imagen 0 de test\n",
    "test_img = x_test[index_sample]\n",
    "test_class = y_test[index_sample]\n",
    "showimg(test_img[:,:])\n",
    "print(f\"La clase de la imagen es {np.argmax(test_class)}\")"
   ]
  },
  {
   "cell_type": "code",
   "execution_count": null,
   "id": "20f6d5f3",
   "metadata": {},
   "outputs": [],
   "source": [
    "# La pasamos por el modelo, a ver qué dice\n",
    "\n",
    "class_output = model(test_img.reshape(-1, width * height))\n",
    "print(f\"El modelo predice una clase de {np.argmax(class_output)}\")"
   ]
  },
  {
   "cell_type": "markdown",
   "id": "239e663c",
   "metadata": {},
   "source": [
    "<font color='red'>\n",
    "Pregunta 5: Buscad información acerca de las métricas de evaluación. ¿Qué significa tener una accuracy del 75%? ¿Nos interesa que las accuracies de training, validación, y test se parezcan o sean muy distintas? ¿Qué relación tiene la loss con la calidad del modelo? ¿Es una buena forma de evaluar?\n",
    "</font>"
   ]
  },
  {
   "cell_type": "markdown",
   "id": "c164beb7",
   "metadata": {},
   "source": [
    "<font color='green'> RESPUESTA AQUÍ </font>"
   ]
  },
  {
   "cell_type": "markdown",
   "id": "07153054",
   "metadata": {},
   "source": [
    "<font color='red'>\n",
    "Pregunta 6: Fijáos que en el código que extrae la clase, he escrito un ''' np.argmax() '''. ¿Qué hace esta función y qué relación tiene con la función de loss Entropía Cruzada (Cross Entropy)?\n",
    "</font>"
   ]
  },
  {
   "cell_type": "markdown",
   "id": "b8e2915e",
   "metadata": {},
   "source": [
    "<font color='green'> RESPUESTA AQUÍ </font>"
   ]
  },
  {
   "cell_type": "markdown",
   "id": "0f1f949d",
   "metadata": {},
   "source": [
    "<font color='red'>\n",
    "Pregunta 7: Es vuestro turno. Debéis probar de añadir o quitar capas al modelo, cambiar sus tamaños o sus funciones de activación. Tenéis que dejar al menos 3 versiones del modelo, cada cuál con al menos un cambio significativo y de las cuales al menos una mejore los resultados en la partición de test. Después de cada modelo tenéis que resumir como afecta cada cambio al tiempo de ejecución, a la calidad del modelo, al número de parámetros y a la.\n",
    "</font>"
   ]
  },
  {
   "cell_type": "code",
   "execution_count": null,
   "id": "c5dca5e3",
   "metadata": {},
   "outputs": [],
   "source": [
    "# MODELO 1 \n",
    "model1 = keras.Sequential(\n",
    "    [\n",
    "        keras.Input(shape=width * height),\n",
    "        \n",
    "        # # # # # # Modificad estas capas\n",
    "        layers.Dense(width * height // 32, activation=\"relu\"),     \n",
    "        layers.Dense(width * height // 32, activation=\"relu\"),     \n",
    "        layers.Dense(width * height // 64, activation=\"relu\"),     \n",
    "        layers.Dense(width * height // 64, activation=\"relu\"), \n",
    "        # # # # # # \n",
    "        \n",
    "        layers.Dense(num_classes, activation=\"softmax\"),\n",
    "    ]\n",
    ")\n",
    "\n",
    "model1.summary()\n",
    "\n",
    "model1.compile(loss=\"categorical_crossentropy\", optimizer=\"adam\", metrics=[\"accuracy\"])\n",
    "model1.fit(x_train_ff, y_train, batch_size=batch_size, epochs=epochs, validation_split=0.1)\n",
    "\n",
    "score = model1.evaluate(x_test_ff, y_test, verbose=0)\n",
    "print(\"Test loss:\", score[0])\n",
    "print(\"Test accuracy:\", score[1])"
   ]
  },
  {
   "cell_type": "markdown",
   "id": "c4efb3b3",
   "metadata": {},
   "source": [
    "<font color='green'> VALORACIÓN DEL MODELO 1 AQUÍ </font>"
   ]
  },
  {
   "cell_type": "code",
   "execution_count": null,
   "id": "1558fbaf",
   "metadata": {},
   "outputs": [],
   "source": [
    "# MODELO 2\n",
    "model2 = keras.Sequential(\n",
    "    [\n",
    "        keras.Input(shape=width * height),\n",
    "        \n",
    "        # # # # # # Modificad estas capas\n",
    "        layers.Dense(width * height // 32, activation=\"relu\"),     \n",
    "        layers.Dense(width * height // 32, activation=\"relu\"),     \n",
    "        layers.Dense(width * height // 64, activation=\"relu\"),     \n",
    "        layers.Dense(width * height // 64, activation=\"relu\"), \n",
    "        # # # # # # \n",
    "        \n",
    "        layers.Dense(num_classes, activation=\"softmax\"),\n",
    "    ]\n",
    ")\n",
    "\n",
    "model2.summary()\n",
    "\n",
    "model2.compile(loss=\"categorical_crossentropy\", optimizer=\"adam\", metrics=[\"accuracy\"])\n",
    "model2.fit(x_train_ff, y_train, batch_size=batch_size, epochs=epochs, validation_split=0.1)\n",
    "\n",
    "score = model2.evaluate(x_test_ff, y_test, verbose=0)\n",
    "print(\"Test loss:\", score[0])\n",
    "print(\"Test accuracy:\", score[1])"
   ]
  },
  {
   "cell_type": "markdown",
   "id": "82501455",
   "metadata": {},
   "source": [
    "<font color='green'> VALORACIÓN DEL MODELO 2 AQUÍ </font>"
   ]
  },
  {
   "cell_type": "code",
   "execution_count": null,
   "id": "b9f12f57",
   "metadata": {},
   "outputs": [],
   "source": [
    "# MODELO 3\n",
    "model3 = keras.Sequential(\n",
    "    [\n",
    "        keras.Input(shape=width * height),\n",
    "        \n",
    "        # # # # # # Modificad estas capas\n",
    "        layers.Dense(width * height // 32, activation=\"relu\"),     \n",
    "        layers.Dense(width * height // 32, activation=\"relu\"),     \n",
    "        layers.Dense(width * height // 64, activation=\"relu\"),     \n",
    "        layers.Dense(width * height // 64, activation=\"relu\"), \n",
    "        # # # # # # \n",
    "        \n",
    "        layers.Dense(num_classes, activation=\"softmax\"),\n",
    "    ]\n",
    ")\n",
    "\n",
    "model3.summary()\n",
    "\n",
    "model3.compile(loss=\"categorical_crossentropy\", optimizer=\"adam\", metrics=[\"accuracy\"])\n",
    "model3.fit(x_train_ff, y_train, batch_size=batch_size, epochs=epochs, validation_split=0.1)\n",
    "\n",
    "score = model3.evaluate(x_test_ff, y_test, verbose=0)\n",
    "print(\"Test loss:\", score[0])\n",
    "print(\"Test accuracy:\", score[1])"
   ]
  },
  {
   "cell_type": "markdown",
   "id": "d2ce1ab2",
   "metadata": {},
   "source": [
    "<font color='green'> VALORACIÓN DEL MODELO 3 AQUÍ </font>"
   ]
  },
  {
   "cell_type": "markdown",
   "id": "d1e50103",
   "metadata": {},
   "source": [
    "<font color='red'>\n",
    "Pregunta extra: Ahora tratad de implementar un modelo basado en capas convolucionales. Observad las principales diferencias en rendimiento, tiempo de ejecución y número de parámetros con las versiones feedforward. ¿A qué se deben estas diferencias? \n",
    "</font>\n",
    "\n",
    "Basáos en el [ejemplo](https://keras.io/examples/vision/mnist_convnet/) de Keras. Si usáis capas que no hayamos visto en clase o en el lab, investigad acerca de su función."
   ]
  },
  {
   "cell_type": "code",
   "execution_count": null,
   "id": "a644b47f",
   "metadata": {},
   "outputs": [],
   "source": [
    "# MODELO 3\n",
    "model_conv = keras.Sequential(\n",
    "    [\n",
    "        keras.Input(shape=(28, 28, 1)),\n",
    "        \n",
    "        # Codigo aqui\n",
    "        \n",
    "        layers.Dense(num_classes, activation=\"softmax\"),\n",
    "    ]\n",
    ")\n",
    "\n",
    "model_conv.summary()\n",
    "\n",
    "model_conv.compile(loss=\"categorical_crossentropy\", optimizer=\"adam\", metrics=[\"accuracy\"])\n",
    "model_conv.fit(x_train_conv, y_train, batch_size=batch_size, epochs=epochs, validation_split=0.1)\n",
    "\n",
    "score = model_conv.evaluate(x_test_conv, y_test, verbose=0)\n",
    "print(\"Test loss:\", score[0])\n",
    "print(\"Test accuracy:\", score[1])"
   ]
  }
 ],
 "metadata": {
  "kernelspec": {
   "display_name": "Python 3 (ipykernel)",
   "language": "python",
   "name": "python3"
  },
  "language_info": {
   "codemirror_mode": {
    "name": "ipython",
    "version": 3
   },
   "file_extension": ".py",
   "mimetype": "text/x-python",
   "name": "python",
   "nbconvert_exporter": "python",
   "pygments_lexer": "ipython3",
   "version": "3.9.13"
  }
 },
 "nbformat": 4,
 "nbformat_minor": 5
}
